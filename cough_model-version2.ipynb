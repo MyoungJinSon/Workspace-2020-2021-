{
 "cells": [
  {
   "cell_type": "code",
   "execution_count": 1,
   "metadata": {
    "id": "TLVeX4JFVq9F"
   },
   "outputs": [
    {
     "name": "stderr",
     "output_type": "stream",
     "text": [
      "2021-09-27 16:41:28.518848: I tensorflow/stream_executor/platform/default/dso_loader.cc:49] Successfully opened dynamic library libcudart.so.10.1\n"
     ]
    }
   ],
   "source": [
    "import tensorflow as tf\n",
    "from tensorflow import keras\n",
    "from tensorflow.keras import layers\n",
    "from keras import Sequential,Model\n",
    "from keras.layers import concatenate,Activation, Dense, Dropout, Conv2D, Flatten, MaxPooling2D, GlobalMaxPooling2D, GlobalAveragePooling2D, AveragePooling2D, Input, Add, BatchNormalization\n",
    "from keras.preprocessing.image import ImageDataGenerator\n",
    "from keras.models import model_from_json\n",
    "from sklearn.metrics import roc_curve\n",
    "from keras.utils import np_utils\n",
    "from tqdm import tqdm\n",
    "import pandas as pd\n",
    "import numpy as np\n",
    "import librosa \n",
    "import librosa.display\n",
    "import pylab\n",
    "import matplotlib.pyplot as plt\n",
    "import cv2\n",
    "import os"
   ]
  },
  {
   "cell_type": "code",
   "execution_count": 2,
   "metadata": {},
   "outputs": [],
   "source": [
    "def load_wav(path, sr):\n",
    "    return librosa.core.load(path, sr=sr)[0]\n",
    "\n",
    "def trim_silence(wav, top_db=23, fft_size=512, hop_size=128):\n",
    "    return librosa.effects.trim(wav, top_db= top_db, frame_length=fft_size, hop_length=hop_size)[0]\n",
    "\n",
    "\n",
    "def spectral_features(y, sr, n_fft, window_size):\n",
    "    S, phase = librosa.magphase(librosa.stft(y=y,n_fft=n_fft, hop_length=window_size+1))\n",
    "\n",
    "    centroid = librosa.feature.spectral_centroid(S=S,n_fft=n_fft)\n",
    "    bandwidth = librosa.feature.spectral_bandwidth(S=S)\n",
    "    flatness = librosa.feature.spectral_flatness(S=S)\n",
    "    rolloff = librosa.feature.spectral_rolloff(S=S, sr=sr)\n",
    "\n",
    "    S = np.abs(librosa.stft(y,n_fft=n_fft,hop_length=window_size+1))\n",
    "    contrast = librosa.feature.spectral_contrast(S=S, sr=sr)\n",
    "    \n",
    "    return np.concatenate([centroid, bandwidth, flatness, rolloff, contrast], axis = 0)"
   ]
  },
  {
   "cell_type": "code",
   "execution_count": 8,
   "metadata": {},
   "outputs": [],
   "source": [
    "#Use old segmentation\n",
    "def segment_cough(x,fs, cough_padding=0.2,min_cough_len=0.2, th_l_multiplier = 0.1, th_h_multiplier = 2):\n",
    "    \"\"\"Preprocess the data by segmenting each file into individual coughs using a hysteresis comparator on the signal power\n",
    "    \n",
    "    Inputs:\n",
    "    *x (np.array): cough signal\n",
    "    *fs (float): sampling frequency in Hz\n",
    "    *cough_padding (float): number of seconds added to the beginning and end of each detected cough to make sure coughs are not cut short\n",
    "    *min_cough_length (float): length of the minimum possible segment that can be considered a cough\n",
    "    *th_l_multiplier (float): multiplier of the RMS energy used as a lower threshold of the hysteresis comparator\n",
    "    *th_h_multiplier (float): multiplier of the RMS energy used as a high threshold of the hysteresis comparator\n",
    "    \n",
    "    Outputs:\n",
    "    *coughSegments (np.array of np.arrays): a list of cough signal arrays corresponding to each cough\n",
    "    cough_mask (np.array): an array of booleans that are True at the indices where a cough is in progress\"\"\"\n",
    "                \n",
    "    cough_mask = np.array([False]*len(x))\n",
    "    \n",
    "\n",
    "    #Define hysteresis thresholds\n",
    "    rms = np.sqrt(np.mean(np.square(x)))\n",
    "    seg_th_l = th_l_multiplier * rms\n",
    "    seg_th_h =  th_h_multiplier*rms\n",
    "\n",
    "    #Segment coughs\n",
    "    coughSegments = []\n",
    "    padding = round(fs*cough_padding)\n",
    "    min_cough_samples = round(fs*min_cough_len)\n",
    "    cough_start = 0\n",
    "    cough_end = 0\n",
    "    cough_in_progress = False\n",
    "    tolerance = round(0.01*fs)\n",
    "    below_th_counter = 0\n",
    "    \n",
    "    for i, sample in enumerate(x**2):\n",
    "        if cough_in_progress:\n",
    "            if sample<seg_th_l:\n",
    "                below_th_counter += 1\n",
    "                if below_th_counter > tolerance:\n",
    "                    cough_end = i+padding if (i+padding < len(x)) else len(x)-1\n",
    "                    cough_in_progress = False\n",
    "                    if (cough_end+1-cough_start-2*padding>min_cough_samples):\n",
    "                        coughSegments.append(x[cough_start:cough_end+1])\n",
    "                        cough_mask[cough_start:cough_end+1] = True\n",
    "            elif i == (len(x)-1):\n",
    "                cough_end=i\n",
    "                cough_in_progress = False\n",
    "                if (cough_end+1-cough_start-2*padding>min_cough_samples):\n",
    "                    coughSegments.append(x[cough_start:cough_end+1])\n",
    "            else:\n",
    "                below_th_counter = 0\n",
    "        else:\n",
    "            if sample>seg_th_h:\n",
    "                cough_start = i-padding if (i-padding >=0) else 0\n",
    "                cough_in_progress = True\n",
    "    \n",
    "    return coughSegments, cough_mask\n",
    "\n",
    "def compute_SNR(x, fs):\n",
    "    \"\"\"Compute the Signal-to-Noise ratio of the audio signal x (np.array) with sampling frequency fs (float)\"\"\"\n",
    "    segments, cough_mask = segment_cough(x,fs)\n",
    "    RMS_signal = 0 if len(x[cough_mask])==0 else np.sqrt(np.mean(np.square(x[cough_mask])))\n",
    "    RMS_noise = np.sqrt(np.mean(np.square(x[~cough_mask])))\n",
    "    SNR = 0 if (RMS_signal==0 or np.isnan(RMS_noise)) else 20*np.log10(RMS_signal/RMS_noise)\n",
    "    return SNR\n"
   ]
  },
  {
   "cell_type": "markdown",
   "metadata": {
    "id": "SYfja4naeas9"
   },
   "source": [
    "---\n",
    "# 1-Prepare Data\n",
    "---\n",
    "\n"
   ]
  },
  {
   "cell_type": "markdown",
   "metadata": {
    "id": "IWd7TgddcLCi"
   },
   "source": [
    "## Prepare dataset\n",
    "\n",
    "+  coughvid "
   ]
  },
  {
   "cell_type": "code",
   "execution_count": 9,
   "metadata": {
    "colab": {
     "base_uri": "https://localhost:8080/",
     "height": 197
    },
    "id": "vhG5icIXtP9R",
    "outputId": "06712e4b-3198-40c6-9c5e-1ca281191880"
   },
   "outputs": [
    {
     "name": "stdout",
     "output_type": "stream",
     "text": [
      "1041\n"
     ]
    },
    {
     "data": {
      "text/html": [
       "<div>\n",
       "<style scoped>\n",
       "    .dataframe tbody tr th:only-of-type {\n",
       "        vertical-align: middle;\n",
       "    }\n",
       "\n",
       "    .dataframe tbody tr th {\n",
       "        vertical-align: top;\n",
       "    }\n",
       "\n",
       "    .dataframe thead th {\n",
       "        text-align: right;\n",
       "    }\n",
       "</style>\n",
       "<table border=\"1\" class=\"dataframe\">\n",
       "  <thead>\n",
       "    <tr style=\"text-align: right;\">\n",
       "      <th></th>\n",
       "      <th>ID</th>\n",
       "      <th>Fever/MP</th>\n",
       "      <th>ORC</th>\n",
       "      <th>STATUS</th>\n",
       "      <th>DIR</th>\n",
       "      <th>DataSet</th>\n",
       "    </tr>\n",
       "  </thead>\n",
       "  <tbody>\n",
       "    <tr>\n",
       "      <th>0</th>\n",
       "      <td>48ff5e27-832e-4450-9ea5-288a0e6967db</td>\n",
       "      <td>0</td>\n",
       "      <td>0</td>\n",
       "      <td>COVID-19</td>\n",
       "      <td>/home/pmp/Workspace/Myoungjin/CoughData/Data/C...</td>\n",
       "      <td>coughvid</td>\n",
       "    </tr>\n",
       "    <tr>\n",
       "      <th>1</th>\n",
       "      <td>00753bb4-cffb-472b-b391-09337558a678</td>\n",
       "      <td>0</td>\n",
       "      <td>0</td>\n",
       "      <td>healthy</td>\n",
       "      <td>/home/pmp/Workspace/Myoungjin/CoughData/Data/C...</td>\n",
       "      <td>coughvid</td>\n",
       "    </tr>\n",
       "    <tr>\n",
       "      <th>2</th>\n",
       "      <td>0c907751-b97d-420e-beed-ad1e09366204</td>\n",
       "      <td>0</td>\n",
       "      <td>0</td>\n",
       "      <td>healthy</td>\n",
       "      <td>/home/pmp/Workspace/Myoungjin/CoughData/Data/C...</td>\n",
       "      <td>coughvid</td>\n",
       "    </tr>\n",
       "    <tr>\n",
       "      <th>3</th>\n",
       "      <td>09bffe1a-63f0-4f2e-942b-f7a152b344fc</td>\n",
       "      <td>0</td>\n",
       "      <td>0</td>\n",
       "      <td>healthy</td>\n",
       "      <td>/home/pmp/Workspace/Myoungjin/CoughData/Data/C...</td>\n",
       "      <td>coughvid</td>\n",
       "    </tr>\n",
       "    <tr>\n",
       "      <th>4</th>\n",
       "      <td>87dcbffa-7685-46d7-a67a-d16e09b33cc0</td>\n",
       "      <td>0</td>\n",
       "      <td>0</td>\n",
       "      <td>COVID-19</td>\n",
       "      <td>/home/pmp/Workspace/Myoungjin/CoughData/Data/C...</td>\n",
       "      <td>coughvid</td>\n",
       "    </tr>\n",
       "  </tbody>\n",
       "</table>\n",
       "</div>"
      ],
      "text/plain": [
       "                                     ID  Fever/MP  ORC    STATUS  \\\n",
       "0  48ff5e27-832e-4450-9ea5-288a0e6967db         0    0  COVID-19   \n",
       "1  00753bb4-cffb-472b-b391-09337558a678         0    0   healthy   \n",
       "2  0c907751-b97d-420e-beed-ad1e09366204         0    0   healthy   \n",
       "3  09bffe1a-63f0-4f2e-942b-f7a152b344fc         0    0   healthy   \n",
       "4  87dcbffa-7685-46d7-a67a-d16e09b33cc0         0    0  COVID-19   \n",
       "\n",
       "                                                 DIR   DataSet  \n",
       "0  /home/pmp/Workspace/Myoungjin/CoughData/Data/C...  coughvid  \n",
       "1  /home/pmp/Workspace/Myoungjin/CoughData/Data/C...  coughvid  \n",
       "2  /home/pmp/Workspace/Myoungjin/CoughData/Data/C...  coughvid  \n",
       "3  /home/pmp/Workspace/Myoungjin/CoughData/Data/C...  coughvid  \n",
       "4  /home/pmp/Workspace/Myoungjin/CoughData/Data/C...  coughvid  "
      ]
     },
     "execution_count": 9,
     "metadata": {},
     "output_type": "execute_result"
    }
   ],
   "source": [
    "names   = ['ID','Fever/MP','ORC','STATUS','DIR','DataSet']\n",
    "data_dir = '/home/pmp/Workspace/Myoungjin/CoughData/Data'\n",
    "\n",
    "coughvid  = data_dir+'/COUGHVID/public_dataset_wav/'\n",
    "custpath  = '/home/pmp/Workspace/Myoungjin/CoughRecognition/virufy-covid-main/cough/custom_dataset_2/' #Where mel spec images will be stored\n",
    "\n",
    "VidData   = pd.read_csv(os.path.join(data_dir+'/COUGHVID/','metadata_compiled.csv'),header=0)\n",
    "VidData   = VidData.loc[VidData['cough_detected'] >= 0.9][['uuid','fever_muscle_pain','respiratory_condition','status']]\n",
    "VidData.dropna(inplace=True)\n",
    "\n",
    "extradata = VidData.loc[VidData['status']=='COVID-19']\n",
    "notradata = VidData.loc[VidData['status']!='COVID-19'][:600]\n",
    "\n",
    "TotData   = pd.concat([extradata,notradata],ignore_index= True)\n",
    "#TotData['DIR'] = coughvid + TotData['uuid'] + '.webm'\n",
    "TotData['DIR'] = coughvid + TotData['uuid'] + '.wav'\n",
    "TotData['DataSet'] = 'coughvid'\n",
    "TotData['fever_muscle_pain']    = TotData['fever_muscle_pain'].apply(int)\n",
    "TotData['respiratory_condition']= TotData['respiratory_condition'].apply(int)\n",
    "print(len(TotData))\n",
    "TotData   = pd.concat([TotData.rename(columns={'uuid':'ID','status':'STATUS','fever_muscle_pain':'Fever/MP','respiratory_condition':'ORC'})])\n",
    "TotData   = TotData.sample(frac=1).reset_index(drop=True)\n",
    "TotData.head()"
   ]
  },
  {
   "cell_type": "code",
   "execution_count": 5,
   "metadata": {
    "scrolled": false
   },
   "outputs": [
    {
     "name": "stdout",
     "output_type": "stream",
     "text": [
      "[['2328eabf-189e-483e-9640-c0c7918f45ef' 0 0 'healthy'\n",
      "  '/home/pmp/Workspace/Myoungjin/CoughData/Data/COUGHVID/public_dataset_wav/2328eabf-189e-483e-9640-c0c7918f45ef.wav'\n",
      "  'coughvid']\n",
      " ['b235d631-6a76-4e0c-b84b-b411a1a1d289' 0 0 'healthy'\n",
      "  '/home/pmp/Workspace/Myoungjin/CoughData/Data/COUGHVID/public_dataset_wav/b235d631-6a76-4e0c-b84b-b411a1a1d289.wav'\n",
      "  'coughvid']\n",
      " ['791eccee-9d6b-48ff-8598-935a271d6548' 0 0 'healthy'\n",
      "  '/home/pmp/Workspace/Myoungjin/CoughData/Data/COUGHVID/public_dataset_wav/791eccee-9d6b-48ff-8598-935a271d6548.wav'\n",
      "  'coughvid']\n",
      " ...\n",
      " ['d6256b7d-a0cc-4928-9c43-fdfc579170e6' 0 0 'healthy'\n",
      "  '/home/pmp/Workspace/Myoungjin/CoughData/Data/COUGHVID/public_dataset_wav/d6256b7d-a0cc-4928-9c43-fdfc579170e6.wav'\n",
      "  'coughvid']\n",
      " ['70841ed6-4c74-4887-9b05-889286aeee2a' 0 0 'healthy'\n",
      "  '/home/pmp/Workspace/Myoungjin/CoughData/Data/COUGHVID/public_dataset_wav/70841ed6-4c74-4887-9b05-889286aeee2a.wav'\n",
      "  'coughvid']\n",
      " ['8ab47018-54ee-40e6-bc5e-198960809d65' 0 0 'healthy'\n",
      "  '/home/pmp/Workspace/Myoungjin/CoughData/Data/COUGHVID/public_dataset_wav/8ab47018-54ee-40e6-bc5e-198960809d65.wav'\n",
      "  'coughvid']]\n"
     ]
    }
   ],
   "source": [
    "print(TotData.values)"
   ]
  },
  {
   "cell_type": "code",
   "execution_count": 10,
   "metadata": {},
   "outputs": [
    {
     "name": "stderr",
     "output_type": "stream",
     "text": [
      "100%|███████████████████████████████████████| 1041/1041 [08:45<00:00,  1.98it/s]\n"
     ]
    }
   ],
   "source": [
    "sr = 24000\n",
    "\n",
    "#healthy_seg = {}\n",
    "#healthy_seg['id'] = []\n",
    "#healthy_seg['data'] = []\n",
    "#healthy_seg['covid_status'] = []\n",
    "\n",
    "data_seg = {}\n",
    "data_seg['id'] = []\n",
    "data_seg['data'] = []\n",
    "data_seg['covid_status'] = []\n",
    "\n",
    "#healthy = healthy.reset_index(drop=True)\n",
    "#covid = covid.reset_index(drop=True)\n",
    "\n",
    "for i in tqdm(range(len(TotData))):\n",
    "    if TotData['STATUS'][i] == 'symptomatic':\n",
    "        continue\n",
    "    else:\n",
    "        file = TotData['DIR'][i]\n",
    "        y = load_wav(file, sr)\n",
    "        cough_segments, cough_mask = segment_cough(y,sr, cough_padding=0)\n",
    "        for j in range(len(cough_segments)):\n",
    "            data_seg['id'].append(TotData['ID'][i])\n",
    "            data_seg['data'].append(cough_segments[j])\n",
    "            data_seg['covid_status'].append(TotData['STATUS'][i])"
   ]
  },
  {
   "cell_type": "code",
   "execution_count": 11,
   "metadata": {},
   "outputs": [],
   "source": [
    "import pickle\n",
    "pickle.dump( data_seg, open( \"loaded_data_model2_seg_1041.pickle\", \"wb\" ) )"
   ]
  },
  {
   "cell_type": "code",
   "execution_count": 20,
   "metadata": {},
   "outputs": [],
   "source": [
    "import pickle\n",
    "\n",
    "data_seg = {}\n",
    "data_seg['data'] = []\n",
    "data_seg['covid_status'] = []\n",
    "\n",
    "with open('loaded_data_model2_seg_1041.pickle', 'rb') as f:\n",
    "    data_seg = pickle.load(f)"
   ]
  },
  {
   "cell_type": "code",
   "execution_count": 21,
   "metadata": {},
   "outputs": [
    {
     "name": "stdout",
     "output_type": "stream",
     "text": [
      "1340\n",
      "1140\n"
     ]
    },
    {
     "data": {
      "text/html": [
       "<div>\n",
       "<style scoped>\n",
       "    .dataframe tbody tr th:only-of-type {\n",
       "        vertical-align: middle;\n",
       "    }\n",
       "\n",
       "    .dataframe tbody tr th {\n",
       "        vertical-align: top;\n",
       "    }\n",
       "\n",
       "    .dataframe thead th {\n",
       "        text-align: right;\n",
       "    }\n",
       "</style>\n",
       "<table border=\"1\" class=\"dataframe\">\n",
       "  <thead>\n",
       "    <tr style=\"text-align: right;\">\n",
       "      <th></th>\n",
       "      <th>id</th>\n",
       "      <th>data</th>\n",
       "      <th>covid_status</th>\n",
       "    </tr>\n",
       "  </thead>\n",
       "  <tbody>\n",
       "    <tr>\n",
       "      <th>0</th>\n",
       "      <td>48ff5e27-832e-4450-9ea5-288a0e6967db</td>\n",
       "      <td>[-0.34226084, -0.45193395, -0.50728506, -0.506...</td>\n",
       "      <td>COVID-19</td>\n",
       "    </tr>\n",
       "    <tr>\n",
       "      <th>1</th>\n",
       "      <td>00753bb4-cffb-472b-b391-09337558a678</td>\n",
       "      <td>[0.849215, 0.6712716, -0.05588208, -0.6054749,...</td>\n",
       "      <td>healthy</td>\n",
       "    </tr>\n",
       "    <tr>\n",
       "      <th>2</th>\n",
       "      <td>00753bb4-cffb-472b-b391-09337558a678</td>\n",
       "      <td>[0.6110022, 0.8950658, 0.5829745, -0.095724426...</td>\n",
       "      <td>healthy</td>\n",
       "    </tr>\n",
       "    <tr>\n",
       "      <th>3</th>\n",
       "      <td>00753bb4-cffb-472b-b391-09337558a678</td>\n",
       "      <td>[-0.69705564, -0.62722945, -0.4327317, -0.3053...</td>\n",
       "      <td>healthy</td>\n",
       "    </tr>\n",
       "    <tr>\n",
       "      <th>4</th>\n",
       "      <td>00753bb4-cffb-472b-b391-09337558a678</td>\n",
       "      <td>[-0.68210304, -0.79066783, -0.72089565, -0.450...</td>\n",
       "      <td>healthy</td>\n",
       "    </tr>\n",
       "    <tr>\n",
       "      <th>...</th>\n",
       "      <td>...</td>\n",
       "      <td>...</td>\n",
       "      <td>...</td>\n",
       "    </tr>\n",
       "    <tr>\n",
       "      <th>2475</th>\n",
       "      <td>12e5dbbb-6cbc-4765-ac40-6fd3fbf155e2</td>\n",
       "      <td>[0.34704503, 0.46957836, 0.4894573, 0.58066976...</td>\n",
       "      <td>healthy</td>\n",
       "    </tr>\n",
       "    <tr>\n",
       "      <th>2476</th>\n",
       "      <td>12e5dbbb-6cbc-4765-ac40-6fd3fbf155e2</td>\n",
       "      <td>[0.5857474, 0.73729205, 0.2555101, 0.058773864...</td>\n",
       "      <td>healthy</td>\n",
       "    </tr>\n",
       "    <tr>\n",
       "      <th>2477</th>\n",
       "      <td>0269e593-3895-4bb4-aaba-d751df4cc058</td>\n",
       "      <td>[-0.3013017, -0.32173976, -0.20486712, -0.0926...</td>\n",
       "      <td>healthy</td>\n",
       "    </tr>\n",
       "    <tr>\n",
       "      <th>2478</th>\n",
       "      <td>0d21c774-9099-4ade-8d43-b829e275fe8a</td>\n",
       "      <td>[-0.53843725, -0.1962331, 0.33994573, 0.474566...</td>\n",
       "      <td>healthy</td>\n",
       "    </tr>\n",
       "    <tr>\n",
       "      <th>2479</th>\n",
       "      <td>0d21c774-9099-4ade-8d43-b829e275fe8a</td>\n",
       "      <td>[0.51691306, 0.59015036, 0.62046516, 0.6028922...</td>\n",
       "      <td>healthy</td>\n",
       "    </tr>\n",
       "  </tbody>\n",
       "</table>\n",
       "<p>2480 rows × 3 columns</p>\n",
       "</div>"
      ],
      "text/plain": [
       "                                        id  \\\n",
       "0     48ff5e27-832e-4450-9ea5-288a0e6967db   \n",
       "1     00753bb4-cffb-472b-b391-09337558a678   \n",
       "2     00753bb4-cffb-472b-b391-09337558a678   \n",
       "3     00753bb4-cffb-472b-b391-09337558a678   \n",
       "4     00753bb4-cffb-472b-b391-09337558a678   \n",
       "...                                    ...   \n",
       "2475  12e5dbbb-6cbc-4765-ac40-6fd3fbf155e2   \n",
       "2476  12e5dbbb-6cbc-4765-ac40-6fd3fbf155e2   \n",
       "2477  0269e593-3895-4bb4-aaba-d751df4cc058   \n",
       "2478  0d21c774-9099-4ade-8d43-b829e275fe8a   \n",
       "2479  0d21c774-9099-4ade-8d43-b829e275fe8a   \n",
       "\n",
       "                                                   data covid_status  \n",
       "0     [-0.34226084, -0.45193395, -0.50728506, -0.506...     COVID-19  \n",
       "1     [0.849215, 0.6712716, -0.05588208, -0.6054749,...      healthy  \n",
       "2     [0.6110022, 0.8950658, 0.5829745, -0.095724426...      healthy  \n",
       "3     [-0.69705564, -0.62722945, -0.4327317, -0.3053...      healthy  \n",
       "4     [-0.68210304, -0.79066783, -0.72089565, -0.450...      healthy  \n",
       "...                                                 ...          ...  \n",
       "2475  [0.34704503, 0.46957836, 0.4894573, 0.58066976...      healthy  \n",
       "2476  [0.5857474, 0.73729205, 0.2555101, 0.058773864...      healthy  \n",
       "2477  [-0.3013017, -0.32173976, -0.20486712, -0.0926...      healthy  \n",
       "2478  [-0.53843725, -0.1962331, 0.33994573, 0.474566...      healthy  \n",
       "2479  [0.51691306, 0.59015036, 0.62046516, 0.6028922...      healthy  \n",
       "\n",
       "[2480 rows x 3 columns]"
      ]
     },
     "execution_count": 21,
     "metadata": {},
     "output_type": "execute_result"
    }
   ],
   "source": [
    "#print(TotData['STATUS'][0])\n",
    "#print(data_seg.values)\n",
    "ds = pd.DataFrame.from_dict(data_seg)\n",
    "\n",
    "#print(ds.values)\n",
    "\n",
    "is_healthy_seg = ds['covid_status'] == 'healthy'\n",
    "healthy_seg = ds[is_healthy_seg]\n",
    "len_healthy_seg = len(healthy_seg)\n",
    "\n",
    "is_covid_seg = ds['covid_status'] == 'COVID-19'\n",
    "covid_seg = ds[is_covid_seg]\n",
    "len_covid_seg = len(covid_seg)\n",
    "print(len_healthy_seg)\n",
    "print(len_covid_seg)\n",
    "ds"
   ]
  },
  {
   "cell_type": "code",
   "execution_count": 15,
   "metadata": {},
   "outputs": [
    {
     "data": {
      "text/plain": [
       "array([['2328eabf-189e-483e-9640-c0c7918f45ef',\n",
       "        array([ 0.36289632,  0.3723085 ,  0.2858499 , ..., -0.02690759,\n",
       "       -0.01146876,  0.01440687], dtype=float32),\n",
       "        'healthy'],\n",
       "       ['2328eabf-189e-483e-9640-c0c7918f45ef',\n",
       "        array([ 0.36312422,  0.27996364,  0.04781995, ...,  0.00617762,\n",
       "       -0.00069924,  0.01535169], dtype=float32),\n",
       "        'healthy'],\n",
       "       ['b235d631-6a76-4e0c-b84b-b411a1a1d289',\n",
       "        array([-0.47815052, -0.46483368, -0.43710932, ...,  0.01126644,\n",
       "        0.00939665,  0.01036027], dtype=float32),\n",
       "        'healthy'],\n",
       "       ...,\n",
       "       ['8ab47018-54ee-40e6-bc5e-198960809d65',\n",
       "        array([ 0.37289196,  0.38102987,  0.37859207, ..., -0.01899354,\n",
       "       -0.01559979, -0.01061054], dtype=float32),\n",
       "        'healthy'],\n",
       "       ['8ab47018-54ee-40e6-bc5e-198960809d65',\n",
       "        array([0.35799697, 0.36748025, 0.3781875 , ..., 0.02066573, 0.02727458,\n",
       "       0.02406859], dtype=float32),\n",
       "        'healthy'],\n",
       "       ['8ab47018-54ee-40e6-bc5e-198960809d65',\n",
       "        array([-0.37724814, -0.41173452, -0.44126198, ..., -0.00525833,\n",
       "       -0.00649769, -0.01141939], dtype=float32),\n",
       "        'healthy']], dtype=object)"
      ]
     },
     "execution_count": 15,
     "metadata": {},
     "output_type": "execute_result"
    }
   ],
   "source": [
    "ds.values"
   ]
  },
  {
   "cell_type": "markdown",
   "metadata": {
    "id": "ZzwONWen17O_"
   },
   "source": [
    "## Feature Extraction"
   ]
  },
  {
   "cell_type": "code",
   "execution_count": 31,
   "metadata": {},
   "outputs": [],
   "source": [
    "sr = 24000\n",
    "y = ds['data'][0]"
   ]
  },
  {
   "cell_type": "code",
   "execution_count": 32,
   "metadata": {},
   "outputs": [],
   "source": [
    "mfccs    = librosa.feature.mfcc(y=y,sr=sr, n_mfcc=13)\n",
    "mfccsscaled = np.mean(mfccs.T,axis=0)"
   ]
  },
  {
   "cell_type": "code",
   "execution_count": 33,
   "metadata": {},
   "outputs": [],
   "source": [
    "cent = librosa.feature.spectral_centroid(y=y,sr=sr)\n",
    "centscaled = np.mean(cent.T,axis=0)\n",
    "\n",
    "bandwidth = librosa.feature.spectral_bandwidth(y=y,sr=sr)\n",
    "bandwidthscaled = np.mean(bandwidth.T, axis=0)\n",
    "\n",
    "contrast = librosa.feature.spectral_contrast(y=y,sr=sr)#\n",
    "contrastscaled = np.mean(contrast.T, axis=0)#\n",
    "\n",
    "flatness = librosa.feature.spectral_flatness(y=y)\n",
    "flatnessscaled = np.mean(flatness.T, axis=0)\n",
    "\n",
    "rolloff = librosa.feature.spectral_rolloff(y=y,sr=sr)\n",
    "rolloffscaled = np.mean(rolloff.T, axis=0)\n",
    "\n",
    "chroma_vec = librosa.feature.chroma_stft(y=y,sr=sr)\n",
    "chroma_vecscaled = np.mean(chroma_vec.T, axis=0) #12"
   ]
  },
  {
   "cell_type": "code",
   "execution_count": 34,
   "metadata": {},
   "outputs": [],
   "source": [
    "test = np.concatenate([mfccsscaled, centscaled, bandwidthscaled, contrastscaled, flatnessscaled, rolloffscaled, chroma_vecscaled ])"
   ]
  },
  {
   "cell_type": "code",
   "execution_count": 35,
   "metadata": {},
   "outputs": [
    {
     "data": {
      "text/plain": [
       "(36,)"
      ]
     },
     "execution_count": 35,
     "metadata": {},
     "output_type": "execute_result"
    }
   ],
   "source": [
    "test.shape"
   ]
  },
  {
   "cell_type": "code",
   "execution_count": 18,
   "metadata": {},
   "outputs": [
    {
     "data": {
      "text/plain": [
       "[None,\n",
       " None,\n",
       " None,\n",
       " None,\n",
       " None,\n",
       " None,\n",
       " None,\n",
       " None,\n",
       " None,\n",
       " None,\n",
       " None,\n",
       " None,\n",
       " None,\n",
       " None,\n",
       " None,\n",
       " None,\n",
       " None,\n",
       " None,\n",
       " None,\n",
       " None,\n",
       " None,\n",
       " None,\n",
       " None,\n",
       " None,\n",
       " None,\n",
       " None,\n",
       " None,\n",
       " None,\n",
       " None,\n",
       " None,\n",
       " None,\n",
       " None,\n",
       " None,\n",
       " None,\n",
       " None,\n",
       " None,\n",
       " None,\n",
       " None,\n",
       " None,\n",
       " None,\n",
       " None,\n",
       " None,\n",
       " None,\n",
       " None,\n",
       " None,\n",
       " None,\n",
       " None,\n",
       " None,\n",
       " None,\n",
       " None,\n",
       " None,\n",
       " None,\n",
       " None,\n",
       " None,\n",
       " None,\n",
       " None,\n",
       " None,\n",
       " None,\n",
       " None,\n",
       " None,\n",
       " None,\n",
       " None,\n",
       " None,\n",
       " None,\n",
       " None,\n",
       " None,\n",
       " None,\n",
       " None,\n",
       " None,\n",
       " None,\n",
       " None,\n",
       " None,\n",
       " None,\n",
       " None,\n",
       " None,\n",
       " None,\n",
       " None,\n",
       " None,\n",
       " None,\n",
       " None,\n",
       " None,\n",
       " None,\n",
       " None,\n",
       " None,\n",
       " None,\n",
       " None,\n",
       " None,\n",
       " None,\n",
       " None,\n",
       " None,\n",
       " None,\n",
       " None,\n",
       " None,\n",
       " None,\n",
       " None,\n",
       " None,\n",
       " None,\n",
       " None,\n",
       " None,\n",
       " None,\n",
       " None,\n",
       " None,\n",
       " None,\n",
       " None,\n",
       " None,\n",
       " None,\n",
       " None,\n",
       " None,\n",
       " None,\n",
       " None,\n",
       " None,\n",
       " None,\n",
       " None,\n",
       " None,\n",
       " None,\n",
       " None,\n",
       " None,\n",
       " None,\n",
       " None,\n",
       " None,\n",
       " None,\n",
       " None,\n",
       " None,\n",
       " None,\n",
       " None,\n",
       " None,\n",
       " None,\n",
       " None,\n",
       " None,\n",
       " None,\n",
       " None,\n",
       " None,\n",
       " None,\n",
       " None,\n",
       " None,\n",
       " None,\n",
       " None,\n",
       " None,\n",
       " None,\n",
       " None,\n",
       " None,\n",
       " None,\n",
       " None,\n",
       " None,\n",
       " None,\n",
       " None,\n",
       " None,\n",
       " None,\n",
       " None,\n",
       " None,\n",
       " None,\n",
       " None,\n",
       " None,\n",
       " None,\n",
       " None,\n",
       " None,\n",
       " None,\n",
       " None,\n",
       " None,\n",
       " None,\n",
       " None,\n",
       " None,\n",
       " None,\n",
       " None,\n",
       " None,\n",
       " None,\n",
       " None,\n",
       " None,\n",
       " None,\n",
       " None,\n",
       " None,\n",
       " None,\n",
       " None,\n",
       " None,\n",
       " None,\n",
       " None,\n",
       " None,\n",
       " None,\n",
       " None,\n",
       " None,\n",
       " None,\n",
       " None,\n",
       " None,\n",
       " None,\n",
       " None,\n",
       " None,\n",
       " None,\n",
       " None,\n",
       " None,\n",
       " None,\n",
       " None,\n",
       " None,\n",
       " None,\n",
       " None,\n",
       " None,\n",
       " None,\n",
       " None,\n",
       " None,\n",
       " None,\n",
       " None,\n",
       " None,\n",
       " None,\n",
       " None,\n",
       " None,\n",
       " None,\n",
       " None,\n",
       " None,\n",
       " None,\n",
       " None,\n",
       " None,\n",
       " None,\n",
       " None,\n",
       " None,\n",
       " None,\n",
       " None,\n",
       " None,\n",
       " None,\n",
       " None,\n",
       " None,\n",
       " None,\n",
       " None,\n",
       " None,\n",
       " None,\n",
       " None,\n",
       " None,\n",
       " None,\n",
       " None,\n",
       " None,\n",
       " None,\n",
       " None,\n",
       " None,\n",
       " None,\n",
       " None,\n",
       " None,\n",
       " None,\n",
       " None,\n",
       " None,\n",
       " None,\n",
       " None,\n",
       " None,\n",
       " None,\n",
       " None,\n",
       " None,\n",
       " None,\n",
       " None,\n",
       " None,\n",
       " None,\n",
       " None,\n",
       " None,\n",
       " None,\n",
       " None,\n",
       " None,\n",
       " None,\n",
       " None,\n",
       " None,\n",
       " None,\n",
       " None,\n",
       " None,\n",
       " None,\n",
       " None,\n",
       " None,\n",
       " None,\n",
       " None,\n",
       " None,\n",
       " None,\n",
       " None,\n",
       " None,\n",
       " None,\n",
       " None,\n",
       " None,\n",
       " None,\n",
       " None,\n",
       " None,\n",
       " None,\n",
       " None,\n",
       " None,\n",
       " None,\n",
       " None,\n",
       " None,\n",
       " None,\n",
       " None,\n",
       " None,\n",
       " None,\n",
       " None,\n",
       " None,\n",
       " None,\n",
       " None,\n",
       " None,\n",
       " None,\n",
       " None,\n",
       " None,\n",
       " None,\n",
       " None,\n",
       " None,\n",
       " None,\n",
       " None,\n",
       " None,\n",
       " None,\n",
       " None,\n",
       " None,\n",
       " None,\n",
       " None,\n",
       " None,\n",
       " None,\n",
       " None,\n",
       " None,\n",
       " None,\n",
       " None,\n",
       " None,\n",
       " None,\n",
       " None,\n",
       " None,\n",
       " None,\n",
       " None,\n",
       " None,\n",
       " None,\n",
       " None,\n",
       " None,\n",
       " None,\n",
       " None,\n",
       " None,\n",
       " None,\n",
       " None,\n",
       " None,\n",
       " None,\n",
       " None,\n",
       " None,\n",
       " None,\n",
       " None,\n",
       " None,\n",
       " None,\n",
       " None,\n",
       " None,\n",
       " None,\n",
       " None,\n",
       " None,\n",
       " None,\n",
       " None,\n",
       " None,\n",
       " None,\n",
       " None,\n",
       " None,\n",
       " None,\n",
       " None,\n",
       " None,\n",
       " None,\n",
       " None,\n",
       " None,\n",
       " None,\n",
       " None,\n",
       " None,\n",
       " None,\n",
       " None,\n",
       " None,\n",
       " None,\n",
       " None,\n",
       " None,\n",
       " None,\n",
       " None,\n",
       " None,\n",
       " None,\n",
       " None,\n",
       " None,\n",
       " None,\n",
       " None,\n",
       " None,\n",
       " None,\n",
       " None,\n",
       " None,\n",
       " None,\n",
       " None,\n",
       " None,\n",
       " None,\n",
       " None,\n",
       " None,\n",
       " None,\n",
       " None,\n",
       " None,\n",
       " None,\n",
       " None,\n",
       " None,\n",
       " None,\n",
       " None,\n",
       " None,\n",
       " None,\n",
       " None,\n",
       " None,\n",
       " None,\n",
       " None,\n",
       " None,\n",
       " None,\n",
       " None,\n",
       " None,\n",
       " None,\n",
       " None,\n",
       " None,\n",
       " None,\n",
       " None,\n",
       " None,\n",
       " None,\n",
       " None,\n",
       " None,\n",
       " None,\n",
       " None,\n",
       " None,\n",
       " None,\n",
       " None,\n",
       " None,\n",
       " None,\n",
       " None,\n",
       " None,\n",
       " None,\n",
       " None,\n",
       " None,\n",
       " None,\n",
       " None,\n",
       " None,\n",
       " None,\n",
       " None,\n",
       " None,\n",
       " None,\n",
       " None,\n",
       " None,\n",
       " None,\n",
       " None,\n",
       " None,\n",
       " None,\n",
       " None,\n",
       " None,\n",
       " None,\n",
       " None,\n",
       " None,\n",
       " None,\n",
       " None,\n",
       " None,\n",
       " None,\n",
       " None,\n",
       " None,\n",
       " None,\n",
       " None,\n",
       " None,\n",
       " None,\n",
       " None,\n",
       " None,\n",
       " None,\n",
       " None,\n",
       " None,\n",
       " None,\n",
       " None,\n",
       " None,\n",
       " None,\n",
       " None,\n",
       " None,\n",
       " None,\n",
       " None,\n",
       " None,\n",
       " None,\n",
       " None,\n",
       " None,\n",
       " None,\n",
       " None,\n",
       " None,\n",
       " None,\n",
       " None,\n",
       " None,\n",
       " None,\n",
       " None,\n",
       " None,\n",
       " None,\n",
       " None,\n",
       " None,\n",
       " None,\n",
       " None,\n",
       " None,\n",
       " None,\n",
       " None,\n",
       " None,\n",
       " None,\n",
       " None,\n",
       " None,\n",
       " None,\n",
       " None,\n",
       " None,\n",
       " None,\n",
       " None,\n",
       " None,\n",
       " None,\n",
       " None,\n",
       " None,\n",
       " None,\n",
       " None,\n",
       " None,\n",
       " None,\n",
       " None,\n",
       " None,\n",
       " None,\n",
       " None,\n",
       " None,\n",
       " None,\n",
       " None,\n",
       " None,\n",
       " None,\n",
       " None,\n",
       " None,\n",
       " None,\n",
       " None,\n",
       " None,\n",
       " None,\n",
       " None,\n",
       " None,\n",
       " None,\n",
       " None,\n",
       " None,\n",
       " None,\n",
       " None,\n",
       " None,\n",
       " None,\n",
       " None,\n",
       " None,\n",
       " None,\n",
       " None,\n",
       " None,\n",
       " None,\n",
       " None,\n",
       " None,\n",
       " None,\n",
       " None,\n",
       " None,\n",
       " None,\n",
       " None,\n",
       " None,\n",
       " None,\n",
       " None,\n",
       " None,\n",
       " None,\n",
       " None,\n",
       " None,\n",
       " None,\n",
       " None,\n",
       " None,\n",
       " None,\n",
       " None,\n",
       " None,\n",
       " None,\n",
       " None,\n",
       " None,\n",
       " None,\n",
       " None,\n",
       " None,\n",
       " None,\n",
       " None,\n",
       " None,\n",
       " None,\n",
       " None,\n",
       " None,\n",
       " None,\n",
       " None,\n",
       " None,\n",
       " None,\n",
       " None,\n",
       " None,\n",
       " None,\n",
       " None,\n",
       " None,\n",
       " None,\n",
       " None,\n",
       " None,\n",
       " None,\n",
       " None,\n",
       " None,\n",
       " None,\n",
       " None,\n",
       " None,\n",
       " None,\n",
       " None,\n",
       " None,\n",
       " None,\n",
       " None,\n",
       " None,\n",
       " None,\n",
       " None,\n",
       " None,\n",
       " None,\n",
       " None,\n",
       " None,\n",
       " None,\n",
       " None,\n",
       " None,\n",
       " None,\n",
       " None,\n",
       " None,\n",
       " None,\n",
       " None,\n",
       " None,\n",
       " None,\n",
       " None,\n",
       " None,\n",
       " None,\n",
       " None,\n",
       " None,\n",
       " None,\n",
       " None,\n",
       " None,\n",
       " None,\n",
       " None,\n",
       " None,\n",
       " None,\n",
       " None,\n",
       " None,\n",
       " None,\n",
       " None,\n",
       " None,\n",
       " None,\n",
       " None,\n",
       " None,\n",
       " None,\n",
       " None,\n",
       " None,\n",
       " None,\n",
       " None,\n",
       " None,\n",
       " None,\n",
       " None,\n",
       " None,\n",
       " None,\n",
       " None,\n",
       " None,\n",
       " None,\n",
       " None,\n",
       " None,\n",
       " None,\n",
       " None,\n",
       " None,\n",
       " None,\n",
       " None,\n",
       " None,\n",
       " None,\n",
       " None,\n",
       " None,\n",
       " None,\n",
       " None,\n",
       " None,\n",
       " None,\n",
       " None,\n",
       " None,\n",
       " None,\n",
       " None,\n",
       " None,\n",
       " None,\n",
       " None,\n",
       " None,\n",
       " None,\n",
       " None,\n",
       " None,\n",
       " None,\n",
       " None,\n",
       " None,\n",
       " None,\n",
       " None,\n",
       " None,\n",
       " None,\n",
       " None,\n",
       " None,\n",
       " None,\n",
       " None,\n",
       " None,\n",
       " None,\n",
       " None,\n",
       " None,\n",
       " None,\n",
       " None,\n",
       " None,\n",
       " None,\n",
       " None,\n",
       " None,\n",
       " None,\n",
       " None,\n",
       " None,\n",
       " None,\n",
       " None,\n",
       " None,\n",
       " None,\n",
       " None,\n",
       " None,\n",
       " None,\n",
       " None,\n",
       " None,\n",
       " None,\n",
       " None,\n",
       " None,\n",
       " None,\n",
       " None,\n",
       " None,\n",
       " None,\n",
       " None,\n",
       " None,\n",
       " None,\n",
       " None,\n",
       " None,\n",
       " None,\n",
       " None,\n",
       " None,\n",
       " None,\n",
       " None,\n",
       " None,\n",
       " None,\n",
       " None,\n",
       " None,\n",
       " None,\n",
       " None,\n",
       " None,\n",
       " None,\n",
       " None,\n",
       " None,\n",
       " None,\n",
       " None,\n",
       " None,\n",
       " None,\n",
       " None,\n",
       " None,\n",
       " None,\n",
       " None,\n",
       " None,\n",
       " None,\n",
       " None,\n",
       " None,\n",
       " None,\n",
       " None,\n",
       " None,\n",
       " None,\n",
       " None,\n",
       " None,\n",
       " None,\n",
       " None,\n",
       " None,\n",
       " None,\n",
       " None,\n",
       " None,\n",
       " None,\n",
       " None,\n",
       " None,\n",
       " None,\n",
       " None,\n",
       " None,\n",
       " None,\n",
       " None,\n",
       " None,\n",
       " None,\n",
       " None,\n",
       " None,\n",
       " None,\n",
       " None,\n",
       " None,\n",
       " None,\n",
       " None,\n",
       " None,\n",
       " None,\n",
       " None,\n",
       " None,\n",
       " None,\n",
       " None,\n",
       " None,\n",
       " None,\n",
       " None,\n",
       " None,\n",
       " None,\n",
       " None,\n",
       " None,\n",
       " None,\n",
       " None,\n",
       " None,\n",
       " None,\n",
       " None,\n",
       " None,\n",
       " None,\n",
       " None,\n",
       " None,\n",
       " None,\n",
       " None,\n",
       " None,\n",
       " None,\n",
       " None,\n",
       " None,\n",
       " None,\n",
       " None,\n",
       " None,\n",
       " None,\n",
       " None,\n",
       " None,\n",
       " None,\n",
       " None,\n",
       " None,\n",
       " None,\n",
       " None,\n",
       " None,\n",
       " None,\n",
       " None,\n",
       " None,\n",
       " None,\n",
       " None,\n",
       " None,\n",
       " None,\n",
       " None,\n",
       " None,\n",
       " None,\n",
       " None,\n",
       " None,\n",
       " None,\n",
       " None,\n",
       " None,\n",
       " None,\n",
       " None,\n",
       " None,\n",
       " None,\n",
       " None,\n",
       " None,\n",
       " None,\n",
       " None,\n",
       " None,\n",
       " None,\n",
       " None,\n",
       " None,\n",
       " None,\n",
       " None,\n",
       " None,\n",
       " None,\n",
       " None,\n",
       " None,\n",
       " None,\n",
       " None,\n",
       " None,\n",
       " None,\n",
       " None,\n",
       " None,\n",
       " None,\n",
       " None,\n",
       " None,\n",
       " None,\n",
       " None,\n",
       " None,\n",
       " None,\n",
       " None,\n",
       " None,\n",
       " None,\n",
       " None,\n",
       " None,\n",
       " None,\n",
       " None,\n",
       " None,\n",
       " None,\n",
       " None,\n",
       " None,\n",
       " None,\n",
       " None,\n",
       " None,\n",
       " None,\n",
       " None,\n",
       " None,\n",
       " None,\n",
       " None,\n",
       " None,\n",
       " None,\n",
       " None,\n",
       " None,\n",
       " None,\n",
       " None,\n",
       " None,\n",
       " None,\n",
       " None,\n",
       " None,\n",
       " None,\n",
       " None,\n",
       " None,\n",
       " None,\n",
       " None,\n",
       " None,\n",
       " None,\n",
       " None,\n",
       " None,\n",
       " None,\n",
       " None,\n",
       " None,\n",
       " None,\n",
       " None,\n",
       " None,\n",
       " None,\n",
       " None,\n",
       " None,\n",
       " None,\n",
       " None,\n",
       " None,\n",
       " None,\n",
       " None,\n",
       " None,\n",
       " None,\n",
       " None,\n",
       " None,\n",
       " None,\n",
       " None,\n",
       " None,\n",
       " None,\n",
       " None,\n",
       " None,\n",
       " None,\n",
       " None,\n",
       " None,\n",
       " None,\n",
       " None,\n",
       " None,\n",
       " None,\n",
       " None,\n",
       " None,\n",
       " None,\n",
       " None,\n",
       " None,\n",
       " None,\n",
       " None,\n",
       " None,\n",
       " None,\n",
       " None,\n",
       " None,\n",
       " None,\n",
       " None,\n",
       " None,\n",
       " None,\n",
       " None,\n",
       " None,\n",
       " None,\n",
       " None,\n",
       " None,\n",
       " None,\n",
       " None,\n",
       " None,\n",
       " None,\n",
       " None,\n",
       " None,\n",
       " None,\n",
       " None,\n",
       " None,\n",
       " None,\n",
       " None,\n",
       " None,\n",
       " None,\n",
       " None,\n",
       " None,\n",
       " None,\n",
       " None,\n",
       " None,\n",
       " None,\n",
       " None,\n",
       " None,\n",
       " None,\n",
       " None,\n",
       " None,\n",
       " None,\n",
       " None,\n",
       " None,\n",
       " None,\n",
       " None,\n",
       " None,\n",
       " None,\n",
       " None,\n",
       " None,\n",
       " None,\n",
       " None,\n",
       " None,\n",
       " None,\n",
       " None,\n",
       " None,\n",
       " None,\n",
       " None,\n",
       " None,\n",
       " None,\n",
       " None,\n",
       " None,\n",
       " None,\n",
       " None,\n",
       " None,\n",
       " None,\n",
       " None,\n",
       " None,\n",
       " None,\n",
       " None,\n",
       " None,\n",
       " None,\n",
       " None,\n",
       " None,\n",
       " None,\n",
       " None,\n",
       " None,\n",
       " None,\n",
       " None,\n",
       " None,\n",
       " None,\n",
       " None,\n",
       " None,\n",
       " None,\n",
       " None,\n",
       " None,\n",
       " None,\n",
       " ...]"
      ]
     },
     "execution_count": 18,
     "metadata": {},
     "output_type": "execute_result"
    }
   ],
   "source": [
    "features"
   ]
  },
  {
   "cell_type": "code",
   "execution_count": 28,
   "metadata": {},
   "outputs": [
    {
     "data": {
      "text/plain": [
       "array([-4.59254532e+01,  1.87651398e+02, -7.59917450e+01,  5.17035446e+01,\n",
       "       -3.61006699e+01,  3.01324081e+01, -2.33067493e+01, -1.00397692e+01,\n",
       "       -1.58862476e+01, -1.04634368e+00,  4.77542543e+00, -3.45764160e+01,\n",
       "        2.49967728e+01, -4.59254532e+01,  1.87651398e+02, -7.59917450e+01,\n",
       "        5.17035446e+01, -3.61006699e+01,  3.01324081e+01, -2.33067493e+01,\n",
       "       -1.00397692e+01, -1.58862476e+01, -1.04634368e+00,  4.77542543e+00,\n",
       "       -3.45764160e+01,  2.49967728e+01,  1.49421223e+03,  1.49421223e+03,\n",
       "        2.18770147e-04,  2.93960337e+03,  6.72044218e-01,  5.00423014e-01,\n",
       "        3.60718668e-01,  3.04444969e-01,  3.40325534e-01,  3.60601723e-01,\n",
       "        4.81812418e-01,  4.33330953e-01,  4.81491059e-01,  5.56890070e-01,\n",
       "        6.39424622e-01,  7.61622965e-01])"
      ]
     },
     "execution_count": 28,
     "metadata": {},
     "output_type": "execute_result"
    }
   ],
   "source": [
    "features[0]"
   ]
  },
  {
   "cell_type": "code",
   "execution_count": 30,
   "metadata": {},
   "outputs": [
    {
     "data": {
      "text/plain": [
       "array([-4.59254532e+01,  1.87651398e+02, -7.59917450e+01,  5.17035446e+01,\n",
       "       -3.61006699e+01,  3.01324081e+01, -2.33067493e+01, -1.00397692e+01,\n",
       "       -1.58862476e+01, -1.04634368e+00,  4.77542543e+00, -3.45764160e+01,\n",
       "        2.49967728e+01,  1.60682519e+03,  1.49421223e+03,  1.49421223e+03,\n",
       "        2.18770147e-04,  2.93960337e+03,  6.72044218e-01,  5.00423014e-01,\n",
       "        3.60718668e-01,  3.04444969e-01,  3.40325534e-01,  3.60601723e-01,\n",
       "        4.81812418e-01,  4.33330953e-01,  4.81491059e-01,  5.56890070e-01,\n",
       "        6.39424622e-01,  7.61622965e-01])"
      ]
     },
     "execution_count": 30,
     "metadata": {},
     "output_type": "execute_result"
    }
   ],
   "source": [
    "test"
   ]
  },
  {
   "cell_type": "code",
   "execution_count": 22,
   "metadata": {
    "id": "SWItHo7ZtR4i"
   },
   "outputs": [],
   "source": [
    "custpath  = '/home/pmp/Workspace/Myoungjin/CoughRecognition/virufy-covid-main/cough/custom_dataset_2/'\n",
    "sr = 24000\n",
    "def feature_extractor(row):\n",
    "\n",
    "    name     = row[0]\n",
    "    try:\n",
    "        #audio,sr = librosa.load(row[-2])\n",
    "        #For MFCCS \n",
    "        audio = row[1]\n",
    "        \n",
    "        mfccs    = librosa.feature.mfcc(y=audio,sr=sr, n_mfcc=13)\n",
    "        mfccsscaled = np.mean(mfccs.T,axis=0)\n",
    "        '''\n",
    "        cent = librosa.feature.spectral_centroid(y=audio,sr=sr)\n",
    "        centscaled = np.mean(cent.T,axis=0)\n",
    "    \n",
    "        bandwidth = librosa.feature.spectral_bandwidth(y=audio,sr=sr)\n",
    "        bandwidthscaled = np.mean(bandwidth.T, axis=0)\n",
    "\n",
    "        contrast = librosa.feature.spectral_contrast(y=audio,sr=sr)\n",
    "        contrastscaled = np.mean(contrast.T, axis=0)\n",
    "\n",
    "        flatness = librosa.feature.spectral_flatness(y=audio)\n",
    "        flatnessscaled = np.mean(flatness.T, axis=0)\n",
    "\n",
    "        rolloff = librosa.feature.spectral_rolloff(y=audio,sr=sr)\n",
    "        rolloffscaled = np.mean(rolloff.T, axis=0)\n",
    "\n",
    "        chroma_vec = librosa.feature.chroma_stft(y=audio,sr=sr)\n",
    "        chroma_vecscaled = np.mean(chroma_vec.T, axis=0) #12\n",
    "    \n",
    "        Feature_Set =  np.concatenate([mfccsscaled, centscaled, bandwidthscaled, contrastscaled, flatnessscaled, rolloffscaled, chroma_vecscaled ])\n",
    "        '''\n",
    "        #print(Feature_Set.shape)\n",
    "    \n",
    "        #Mel Spectogram\n",
    "        plt.axis('off') # no axis\n",
    "        plt.axes([0., 0., 1., 1.], frameon=False, xticks=[], yticks=[])\n",
    "        melspec  = librosa.feature.melspectrogram(y=audio,sr=sr)\n",
    "        s_db     = librosa.power_to_db(melspec, ref=np.max)\n",
    "        librosa.display.specshow(s_db)\n",
    "        savepath = os.path.join(custpath,name+'.png')\n",
    "        plt.savefig(savepath, bbox_inches=None, pad_inches=0)\n",
    "        plt.close()\n",
    "        \n",
    "    except:\n",
    "        print('File cannot open')\n",
    "        return None,None\n",
    "    return mfccsscaled,savepath\n",
    "\n",
    "features = []\n",
    "diagnoses= []\n",
    "imgpaths = []"
   ]
  },
  {
   "cell_type": "code",
   "execution_count": null,
   "metadata": {},
   "outputs": [],
   "source": [
    "os.path.dir(\"/home/pmp/Workspace/Myoungjin/CoughRecognition/virufy-covid-main/cough/custom_dataset_2/\")"
   ]
  },
  {
   "cell_type": "code",
   "execution_count": 23,
   "metadata": {
    "colab": {
     "base_uri": "https://localhost:8080/"
    },
    "id": "B41Td6IM22HJ",
    "outputId": "8366208d-c3a0-4398-bf8d-9978e0360069",
    "scrolled": true
   },
   "outputs": [
    {
     "name": "stderr",
     "output_type": "stream",
     "text": [
      "100%|███████████████████████████████████████| 2480/2480 [04:42<00:00,  8.77it/s]"
     ]
    },
    {
     "name": "stdout",
     "output_type": "stream",
     "text": [
      "2480\n",
      "2480\n"
     ]
    },
    {
     "name": "stderr",
     "output_type": "stream",
     "text": [
      "\n"
     ]
    }
   ],
   "source": [
    "idx = 0\n",
    "\n",
    "for row in tqdm(ds.values):\n",
    "    feature_set,savepath  = feature_extractor(row)\n",
    "    features.append(feature_set)\n",
    "    imgpaths.append(savepath)\n",
    "    #diagnoses.append([row[1],row[2]])\n",
    "\n",
    "print(len(features))\n",
    "print(len(imgpaths))\n",
    "#print(len(diagnoses))\n"
   ]
  },
  {
   "cell_type": "code",
   "execution_count": 24,
   "metadata": {},
   "outputs": [
    {
     "name": "stdout",
     "output_type": "stream",
     "text": [
      "(2480, 13)\n",
      "2480\n"
     ]
    }
   ],
   "source": [
    "print(np.array(features).shape)\n",
    "print(len(imgpaths))"
   ]
  },
  {
   "cell_type": "markdown",
   "metadata": {
    "id": "SFLW0eUeJ_wm"
   },
   "source": [
    "---\n",
    "# 2- Data Sampling \n",
    "---"
   ]
  },
  {
   "cell_type": "markdown",
   "metadata": {
    "id": "U4FVk_DXPriE"
   },
   "source": [
    "## Remove Nans"
   ]
  },
  {
   "cell_type": "code",
   "execution_count": 25,
   "metadata": {
    "id": "dZoFUQ2-LAsQ"
   },
   "outputs": [
    {
     "name": "stdout",
     "output_type": "stream",
     "text": [
      "2480\n",
      "2480\n"
     ]
    }
   ],
   "source": [
    "isnone = lambda x: x is not None\n",
    "label  = lambda x: 1 if x == 'positive_mild' or x =='positive_moderate' or x == 'COVID-19' else 0\n",
    "cast_x = list(map(isnone,features))\n",
    "#cast_x = list(map(features))\n",
    "#data_y = list(map(label,TotData['STATUS']))\n",
    "data_y = list(map(label,ds['covid_status']))\n",
    "\n",
    "data_x = [features[i] for i in range(len(features)) if cast_x[i] == True]\n",
    "data_xx= [imgpaths[i] for i in range(len(imgpaths)) if cast_x[i] == True]\n",
    "#data_xp= [diagnoses[i]for i in range(len(diagnoses))if cast_x[i] == True]\n",
    "data_y = [data_y[i] for i in range(len(features)) if cast_x[i] == True]\n",
    "\n",
    "print(len(data_x))\n",
    "print(len(data_y))"
   ]
  },
  {
   "cell_type": "markdown",
   "metadata": {
    "id": "aiUQQC2UQXPc"
   },
   "source": [
    "## Prepare Data Splits\n",
    "  n = NUM_shuf\n",
    "\n",
    "\n",
    "\n"
   ]
  },
  {
   "cell_type": "code",
   "execution_count": 26,
   "metadata": {
    "id": "3O6Nuvw7QcX_"
   },
   "outputs": [],
   "source": [
    "assert len(data_x) == len(data_xx), \"Data lengths do not match\" #== len(data_xp)\n",
    "data_len = len(data_x)\n",
    "indices = np.arange(len(data_x))\n",
    "#NUM_shuf= 5\n",
    "#DATA    = {i:{} for i in range(NUM_shuf)}\n",
    "DATA = {}\n",
    "DATA['MFCCS'] = {}\n",
    "DATA['MEL'] = {}\n",
    "DATA['LABELS'] = {}\n",
    "\n",
    "#for i in range(NUM_shuf):\n",
    "np.random.shuffle(indices)\n",
    "\n",
    "DATA['MFCCS'] = np.array([data_x[i] for i in indices])\n",
    "DATA['MEL']   = [data_xx[i] for i in indices]\n",
    "#DATA[i]['EXTRA'] = np.array([data_xp[i] for i in indices])\n",
    "DATA['LABELS']= np.array([data_y[i] for i in indices])"
   ]
  },
  {
   "cell_type": "code",
   "execution_count": 27,
   "metadata": {
    "id": "c-dQGmNILDom"
   },
   "outputs": [],
   "source": [
    "# Save extracted features\n",
    "# Note: mel specs not saved\n",
    "import pickle\n",
    "pickle.dump( DATA, open( \"loaded_data_seg_1441_2480_mfcc13.pickle\", \"wb\" ) )"
   ]
  },
  {
   "cell_type": "code",
   "execution_count": 3,
   "metadata": {},
   "outputs": [],
   "source": [
    "import pickle\n",
    "\n",
    "DATA = {}\n",
    "DATA['MFCCS'] = {}\n",
    "DATA['MEL'] = {}\n",
    "DATA['LABELS'] = {}\n",
    "\n",
    "with open('loaded_data_seg_1441_2480.pickle', 'rb') as f:\n",
    "    DATA = pickle.load(f)\n",
    "#pickle.load(DATA, open(\"loaded_data.pickle\",\"rb\"))"
   ]
  },
  {
   "cell_type": "code",
   "execution_count": 28,
   "metadata": {},
   "outputs": [
    {
     "name": "stdout",
     "output_type": "stream",
     "text": [
      "2480\n"
     ]
    }
   ],
   "source": [
    "print(len(DATA['LABELS']))\n",
    "data_len=len(DATA['MFCCS'])"
   ]
  },
  {
   "cell_type": "code",
   "execution_count": 29,
   "metadata": {},
   "outputs": [
    {
     "name": "stdout",
     "output_type": "stream",
     "text": [
      "[ -47.50772     116.02305    -122.30644      46.19376     -79.83648\n",
      "   28.62427     -19.738333    -45.57072     -15.839546    -20.426413\n",
      "   -5.8526697   -15.573746      0.83439577]\n"
     ]
    }
   ],
   "source": [
    "print(DATA['MFCCS'][0])"
   ]
  },
  {
   "cell_type": "markdown",
   "metadata": {
    "id": "Wu99vXhGTpaM"
   },
   "source": [
    "## Data Generator\n",
    "\n",
    "\n"
   ]
  },
  {
   "cell_type": "code",
   "execution_count": 30,
   "metadata": {
    "id": "hHyTFld8Toli"
   },
   "outputs": [],
   "source": [
    "\n",
    "class CustomDataset(tf.keras.utils.Sequence):\n",
    "    def __init__(self,imgfiles,labels,batch_size,target_size=(224,224),shuffle=False,scale=255,n_classes=1,n_channels=3):\n",
    "        self.batch_size = batch_size\n",
    "        self.dim        = target_size\n",
    "        self.labels     = labels\n",
    "        self.imgfiles   = imgfiles\n",
    "        self.n_classes  = n_classes\n",
    "        self.shuffle    = shuffle\n",
    "        self.n_channels = n_channels\n",
    "        self.scale      = scale\n",
    "\n",
    "        self.c          = 0\n",
    "        self.on_epoch_end()\n",
    "\n",
    "    def __len__(self):\n",
    "        # returns the number of batches\n",
    "        return int(np.floor(len(self.imgfiles) / self.batch_size))\n",
    "\n",
    "    def __getitem__(self, index):\n",
    "        # returns one batch\n",
    "        indexes = self.indexes[index*self.batch_size:(index+1)*self.batch_size]\n",
    "\n",
    "        # Generate data\n",
    "        X, y = self.__data_generation(indexes)\n",
    "        return X, y\n",
    "\n",
    "    def on_epoch_end(self):\n",
    "        self.indexes = np.arange(len(self.imgfiles))\n",
    "        if self.shuffle == True:\n",
    "            np.random.shuffle(self.indexes)\n",
    "  \n",
    "    def __data_generation(self, list_IDs_temp):\n",
    "        X = np.empty((self.batch_size, *self.dim, self.n_channels))\n",
    "        y = np.empty((self.batch_size), dtype=int)\n",
    "\n",
    "        # Generate data\n",
    "        for i, ID in enumerate(list_IDs_temp):\n",
    "            # Store sample\n",
    "            img   = cv2.imread(self.imgfiles[ID])\n",
    "            img   = cv2.resize(img,self.dim,interpolation = cv2.INTER_CUBIC)\n",
    "            X[i,] = img / self.scale\n",
    "\n",
    "            # Store class\n",
    "            y[i] = self.labels[ID]\n",
    "\n",
    "            self.c +=1\n",
    "        return X, y #keras.utils.to_categorical(y, num_classes=self.n_classes)\n",
    "\n",
    "\n",
    "class CustomPipeline(tf.keras.utils.Sequence):\n",
    "    def __init__(self,data_x,data_y,batch_size=48,shuffle=False,n_classes=1):\n",
    "        self.features   = data_x\n",
    "        self.labels     = data_y\n",
    "        self.batch_size = 48\n",
    "        self.shuffle    = shuffle\n",
    "        self.n_features = self.features.shape[1]\n",
    "        self.n_classes  = 1\n",
    "        self.on_epoch_end()\n",
    "\n",
    "    def __len__(self):\n",
    "        return int(np.floor(len(self.features) / self.batch_size))\n",
    "\n",
    "    def __getitem__(self,index):\n",
    "        indexes = self.indexes[index*self.batch_size:(index+1)*self.batch_size]\n",
    "        X, y = self.__data_generation(indexes)\n",
    "        return X, y\n",
    "\n",
    "    def on_epoch_end(self):\n",
    "        self.indexes = np.arange(len(self.features))\n",
    "        if self.shuffle == True:\n",
    "            np.random.shuffle(self.indexes)\n",
    "\n",
    "    def __data_generation(self,indexes):\n",
    "        X = np.empty((self.batch_size, self.n_features))\n",
    "        y = np.empty((self.batch_size), dtype=int)\n",
    "\n",
    "        for i, ID in enumerate(indexes):\n",
    "            X[i,] = self.features[ID]\n",
    "            y[i,] = self.labels[ID]\n",
    "        return X, y\n",
    "\n",
    "class MultipleInputGenerator(tf.keras.utils.Sequence):\n",
    "#Wrapper of two generatos for the combined input model\n",
    "    \n",
    "    def __init__(self, X1, X2, Y, batch_size,target_size=(224,224)):\n",
    "        self.genX1 = CustomPipeline(X1, Y, batch_size=batch_size,shuffle=False)\n",
    "        self.genX2 = CustomDataset (X2, Y, batch_size=batch_size,shuffle=False,target_size=target_size)\n",
    "    \n",
    "    def __len__(self):\n",
    "        return self.genX1.__len__()\n",
    "\n",
    "    def __getitem__(self, index):\n",
    "        X1_batch, Y_batch = self.genX1.__getitem__(index)\n",
    "        X2_batch, Y_batch = self.genX2.__getitem__(index)\n",
    "        X_batch = [X1_batch, X2_batch]\n",
    "        return X_batch, Y_batch\n",
    "\n",
    "class TripleInputGenerator(tf.keras.utils.Sequence):\n",
    "#Wrapper of two generatos for the combined input model\n",
    "#def __init__(self, X1, X2, X3, Y, batch_size,target_size=(224,224)):\n",
    "    def __init__(self, X1, X2, Y, batch_size,target_size=(224,224)):\n",
    "    #def __init__(self, X2, Y, batch_size,target_size=(224,224)):\n",
    "        self.genX1 = CustomPipeline(X1, Y, batch_size=batch_size,shuffle=False)\n",
    "        self.genX2 = CustomDataset (X2, Y, batch_size=batch_size,shuffle=False,target_size=target_size)\n",
    "        #self.genX3 = CustomPipeline(X3, Y, batch_size=batch_size,shuffle=False)\n",
    "    def __len__(self):\n",
    "        return self.genX1.__len__()\n",
    "\n",
    "    def __getitem__(self, index):\n",
    "        X1_batch, Y_batch = self.genX1.__getitem__(index)\n",
    "        X2_batch, Y_batch = self.genX2.__getitem__(index)\n",
    "        #X3_batch, Y_batch = self.genX3.__getitem__(index)\n",
    "\n",
    "        X_batch = [X1_batch, X2_batch]#, X3_batch]\n",
    "        return X_batch, Y_batch"
   ]
  },
  {
   "cell_type": "markdown",
   "metadata": {
    "id": "fM6PyqEbJ4UL"
   },
   "source": [
    "---\n",
    "# 3- Training and Evaluation\n",
    "---"
   ]
  },
  {
   "cell_type": "code",
   "execution_count": 31,
   "metadata": {
    "id": "6KJaZZlziX7D"
   },
   "outputs": [],
   "source": [
    "from sklearn.metrics import roc_auc_score\n",
    "from keras.callbacks import Callback\n",
    "class Evaluation(keras.callbacks.Callback):\n",
    "  \n",
    "    def __init__(self, val_data_gen, val_labels, test_data_gen, test_labels):\n",
    "        super(Callback, self).__init__()\n",
    "        self.test_data = test_data_gen\n",
    "        self.val_labels = val_labels\n",
    "        self.val_data = val_data_gen\n",
    "        self.test_labels = test_labels\n",
    "\n",
    "    def on_epoch_end(self, epoch, logs=None):\n",
    "        y_preds = self.model.predict_generator(self.val_data)\n",
    "        print(' | val_auc:', roc_auc_score(self.val_labels[:len(y_preds)], y_preds))\n",
    "\n",
    "        y_preds = self.model.predict_generator(self.test_data)\n",
    "        print(' | test_auc:', roc_auc_score(self.test_labels[:len(y_preds)], y_preds))\n"
   ]
  },
  {
   "cell_type": "code",
   "execution_count": 32,
   "metadata": {
    "id": "S1bC_WKGhf3-"
   },
   "outputs": [],
   "source": [
    "from keras.applications import ResNet50\n",
    "\n",
    "def build_model():\n",
    "    # first branch spectrogram\n",
    "    \n",
    "    inp1 = Input(shape=(224,224,3)) # (224,224,3)\n",
    "    resnet = ResNet50(input_tensor=inp1, include_top=True, weights='imagenet', pooling = 'avg').layers[-3]\n",
    "    gap = GlobalAveragePooling2D()(resnet.output)\n",
    "    gap_batch_norm = BatchNormalization(axis=1)(gap)\n",
    "    gap_dropout = Dropout(0.5)(gap_batch_norm)\n",
    "\n",
    "    gmp = GlobalMaxPooling2D()(resnet.output)\n",
    "    gmp_batch_norm = BatchNormalization(axis=1)(gmp)\n",
    "    gmp_dropout = Dropout(0.5)(gmp_batch_norm)\n",
    "\n",
    "    first_branch_concat = concatenate([gap_dropout, gmp_dropout], axis=-1) #axis=-1\n",
    "    first_branch_norm = BatchNormalization(axis=1)(first_branch_concat)\n",
    "    first_branch = Dropout(0.5)(first_branch_norm)\n",
    "    \n",
    "    #  second branch MFCCs\n",
    "    inp2 = Input(shape=13) #(?,13)\n",
    "    dense256_1 = Dense(units=256,activation='relu',kernel_initializer='GlorotUniform')(inp2)\n",
    "    dense256_batch1 = BatchNormalization(axis=1)(dense256_1)#batchNormalization\n",
    "    dense256_dropout1 = Dropout(0.5)(dense256_batch1)\n",
    "    dense256_2 = Dense(units=256,activation='relu',kernel_initializer='GlorotUniform')(dense256_dropout1)\n",
    "    dense256_batch2 = BatchNormalization(axis=1)(dense256_2)\n",
    "    dense256_dropout2 = Dropout(0.5)(dense256_batch2)\n",
    "\n",
    "    dense64_1 = Dense(units=64,activation='relu',kernel_initializer='GlorotUniform')(inp2)\n",
    "    dense64_batch1 = BatchNormalization(axis=1)(dense64_1)#batchNormalization\n",
    "    dense64_dropout1= Dropout(0.5)(dense64_batch1)\n",
    "    dense64_2 = Dense(units=64,activation='relu',kernel_initializer='GlorotUniform')(dense64_dropout1)\n",
    "    dense64_batch2 = BatchNormalization(axis=1)(dense64_2)\n",
    "    dense64_dropout2 = Dropout(0.5)(dense64_batch2)\n",
    "\n",
    "    second_branch = concatenate([dense256_dropout2,dense64_dropout2],axis=-1)\n",
    "    \n",
    "    # merge input models\n",
    "    branch_concat = concatenate([first_branch, second_branch], axis=-1) #axis=-1\n",
    "    \n",
    "    # interpretation model\n",
    "    merge_dense = Dense(256, activation='relu')(branch_concat)\n",
    "    merge_batch = BatchNormalization(axis=1)(merge_dense)\n",
    "    merge_dropout = Dropout(0.5)(merge_batch)\n",
    "    output = Dense(1, activation='sigmoid')(merge_dropout)\n",
    "\n",
    "    MERGM = Model(inputs = [inp2,inp1], outputs = output)\n",
    "\n",
    "    return MERGM"
   ]
  },
  {
   "cell_type": "code",
   "execution_count": 25,
   "metadata": {},
   "outputs": [
    {
     "data": {
      "text/plain": [
       "'2.4.1'"
      ]
     },
     "execution_count": 25,
     "metadata": {},
     "output_type": "execute_result"
    }
   ],
   "source": [
    "tf.__version__"
   ]
  },
  {
   "cell_type": "code",
   "execution_count": 43,
   "metadata": {
    "colab": {
     "base_uri": "https://localhost:8080/"
    },
    "id": "Ec4x7Y5fIve5",
    "outputId": "68ba1e27-2d5e-42a6-b14f-8c946733d1c8",
    "scrolled": true
   },
   "outputs": [
    {
     "name": "stderr",
     "output_type": "stream",
     "text": [
      "/home/pmp/anaconda3/envs/COVID/lib/python3.7/site-packages/tensorflow/python/keras/engine/training.py:1844: UserWarning: `Model.fit_generator` is deprecated and will be removed in a future version. Please use `Model.fit`, which supports generators.\n",
      "  warnings.warn('`Model.fit_generator` is deprecated and '\n"
     ]
    },
    {
     "name": "stdout",
     "output_type": "stream",
     "text": [
      "Epoch 1/30\n",
      "36/36 - 17s - loss: 0.9683 - auc: 0.5916 - val_loss: 147.5088 - val_auc: 0.5000\n"
     ]
    },
    {
     "name": "stderr",
     "output_type": "stream",
     "text": [
      "/home/pmp/anaconda3/envs/COVID/lib/python3.7/site-packages/tensorflow/python/keras/engine/training.py:1905: UserWarning: `Model.predict_generator` is deprecated and will be removed in a future version. Please use `Model.predict`, which supports generators.\n",
      "  warnings.warn('`Model.predict_generator` is deprecated and '\n"
     ]
    },
    {
     "name": "stdout",
     "output_type": "stream",
     "text": [
      " | val_auc: 0.5\n"
     ]
    },
    {
     "name": "stderr",
     "output_type": "stream",
     "text": [
      "/home/pmp/anaconda3/envs/COVID/lib/python3.7/site-packages/tensorflow/python/keras/engine/training.py:1905: UserWarning: `Model.predict_generator` is deprecated and will be removed in a future version. Please use `Model.predict`, which supports generators.\n",
      "  warnings.warn('`Model.predict_generator` is deprecated and '\n"
     ]
    },
    {
     "name": "stdout",
     "output_type": "stream",
     "text": [
      " | test_auc: 0.5\n",
      "Epoch 2/30\n",
      "36/36 - 11s - loss: 0.8724 - auc: 0.6225 - val_loss: 44.2036 - val_auc: 0.5000\n"
     ]
    },
    {
     "name": "stderr",
     "output_type": "stream",
     "text": [
      "/home/pmp/anaconda3/envs/COVID/lib/python3.7/site-packages/tensorflow/python/keras/engine/training.py:1905: UserWarning: `Model.predict_generator` is deprecated and will be removed in a future version. Please use `Model.predict`, which supports generators.\n",
      "  warnings.warn('`Model.predict_generator` is deprecated and '\n"
     ]
    },
    {
     "name": "stdout",
     "output_type": "stream",
     "text": [
      " | val_auc: 0.49412479017107747\n"
     ]
    },
    {
     "name": "stderr",
     "output_type": "stream",
     "text": [
      "/home/pmp/anaconda3/envs/COVID/lib/python3.7/site-packages/tensorflow/python/keras/engine/training.py:1905: UserWarning: `Model.predict_generator` is deprecated and will be removed in a future version. Please use `Model.predict`, which supports generators.\n",
      "  warnings.warn('`Model.predict_generator` is deprecated and '\n"
     ]
    },
    {
     "name": "stdout",
     "output_type": "stream",
     "text": [
      " | test_auc: 0.48112535612535606\n",
      "Epoch 3/30\n",
      "36/36 - 11s - loss: 0.7500 - auc: 0.6728 - val_loss: 282.6895 - val_auc: 0.5000\n"
     ]
    },
    {
     "name": "stderr",
     "output_type": "stream",
     "text": [
      "/home/pmp/anaconda3/envs/COVID/lib/python3.7/site-packages/tensorflow/python/keras/engine/training.py:1905: UserWarning: `Model.predict_generator` is deprecated and will be removed in a future version. Please use `Model.predict`, which supports generators.\n",
      "  warnings.warn('`Model.predict_generator` is deprecated and '\n"
     ]
    },
    {
     "name": "stdout",
     "output_type": "stream",
     "text": [
      " | val_auc: 0.5\n"
     ]
    },
    {
     "name": "stderr",
     "output_type": "stream",
     "text": [
      "/home/pmp/anaconda3/envs/COVID/lib/python3.7/site-packages/tensorflow/python/keras/engine/training.py:1905: UserWarning: `Model.predict_generator` is deprecated and will be removed in a future version. Please use `Model.predict`, which supports generators.\n",
      "  warnings.warn('`Model.predict_generator` is deprecated and '\n"
     ]
    },
    {
     "name": "stdout",
     "output_type": "stream",
     "text": [
      " | test_auc: 0.5\n",
      "Epoch 4/30\n",
      "36/36 - 11s - loss: 0.5706 - auc: 0.8100 - val_loss: 101.9135 - val_auc: 0.5000\n"
     ]
    },
    {
     "name": "stderr",
     "output_type": "stream",
     "text": [
      "/home/pmp/anaconda3/envs/COVID/lib/python3.7/site-packages/tensorflow/python/keras/engine/training.py:1905: UserWarning: `Model.predict_generator` is deprecated and will be removed in a future version. Please use `Model.predict`, which supports generators.\n",
      "  warnings.warn('`Model.predict_generator` is deprecated and '\n"
     ]
    },
    {
     "name": "stdout",
     "output_type": "stream",
     "text": [
      " | val_auc: 0.5\n"
     ]
    },
    {
     "name": "stderr",
     "output_type": "stream",
     "text": [
      "/home/pmp/anaconda3/envs/COVID/lib/python3.7/site-packages/tensorflow/python/keras/engine/training.py:1905: UserWarning: `Model.predict_generator` is deprecated and will be removed in a future version. Please use `Model.predict`, which supports generators.\n",
      "  warnings.warn('`Model.predict_generator` is deprecated and '\n"
     ]
    },
    {
     "name": "stdout",
     "output_type": "stream",
     "text": [
      " | test_auc: 0.5\n",
      "Epoch 5/30\n",
      "36/36 - 11s - loss: 0.4865 - auc: 0.8617 - val_loss: 3.4318 - val_auc: 0.5206\n"
     ]
    },
    {
     "name": "stderr",
     "output_type": "stream",
     "text": [
      "/home/pmp/anaconda3/envs/COVID/lib/python3.7/site-packages/tensorflow/python/keras/engine/training.py:1905: UserWarning: `Model.predict_generator` is deprecated and will be removed in a future version. Please use `Model.predict`, which supports generators.\n",
      "  warnings.warn('`Model.predict_generator` is deprecated and '\n"
     ]
    },
    {
     "name": "stdout",
     "output_type": "stream",
     "text": [
      " | val_auc: 0.5948069573913355\n"
     ]
    },
    {
     "name": "stderr",
     "output_type": "stream",
     "text": [
      "/home/pmp/anaconda3/envs/COVID/lib/python3.7/site-packages/tensorflow/python/keras/engine/training.py:1905: UserWarning: `Model.predict_generator` is deprecated and will be removed in a future version. Please use `Model.predict`, which supports generators.\n",
      "  warnings.warn('`Model.predict_generator` is deprecated and '\n"
     ]
    },
    {
     "name": "stdout",
     "output_type": "stream",
     "text": [
      " | test_auc: 0.6201388888888889\n",
      "Epoch 6/30\n",
      "36/36 - 11s - loss: 0.2442 - auc: 0.9641 - val_loss: 112.7706 - val_auc: 0.5000\n"
     ]
    },
    {
     "name": "stderr",
     "output_type": "stream",
     "text": [
      "/home/pmp/anaconda3/envs/COVID/lib/python3.7/site-packages/tensorflow/python/keras/engine/training.py:1905: UserWarning: `Model.predict_generator` is deprecated and will be removed in a future version. Please use `Model.predict`, which supports generators.\n",
      "  warnings.warn('`Model.predict_generator` is deprecated and '\n"
     ]
    },
    {
     "name": "stdout",
     "output_type": "stream",
     "text": [
      " | val_auc: 0.5\n"
     ]
    },
    {
     "name": "stderr",
     "output_type": "stream",
     "text": [
      "/home/pmp/anaconda3/envs/COVID/lib/python3.7/site-packages/tensorflow/python/keras/engine/training.py:1905: UserWarning: `Model.predict_generator` is deprecated and will be removed in a future version. Please use `Model.predict`, which supports generators.\n",
      "  warnings.warn('`Model.predict_generator` is deprecated and '\n"
     ]
    },
    {
     "name": "stdout",
     "output_type": "stream",
     "text": [
      " | test_auc: 0.5\n",
      "Epoch 7/30\n",
      "36/36 - 11s - loss: 0.3369 - auc: 0.9349 - val_loss: 0.7378 - val_auc: 0.5760\n"
     ]
    },
    {
     "name": "stderr",
     "output_type": "stream",
     "text": [
      "/home/pmp/anaconda3/envs/COVID/lib/python3.7/site-packages/tensorflow/python/keras/engine/training.py:1905: UserWarning: `Model.predict_generator` is deprecated and will be removed in a future version. Please use `Model.predict`, which supports generators.\n",
      "  warnings.warn('`Model.predict_generator` is deprecated and '\n"
     ]
    },
    {
     "name": "stdout",
     "output_type": "stream",
     "text": [
      " | val_auc: 0.576377727775992\n"
     ]
    },
    {
     "name": "stderr",
     "output_type": "stream",
     "text": [
      "/home/pmp/anaconda3/envs/COVID/lib/python3.7/site-packages/tensorflow/python/keras/engine/training.py:1905: UserWarning: `Model.predict_generator` is deprecated and will be removed in a future version. Please use `Model.predict`, which supports generators.\n",
      "  warnings.warn('`Model.predict_generator` is deprecated and '\n"
     ]
    },
    {
     "name": "stdout",
     "output_type": "stream",
     "text": [
      " | test_auc: 0.6550925925925927\n",
      "Epoch 8/30\n",
      "36/36 - 11s - loss: 0.2200 - auc: 0.9695 - val_loss: 1.3712 - val_auc: 0.5747\n"
     ]
    },
    {
     "name": "stderr",
     "output_type": "stream",
     "text": [
      "/home/pmp/anaconda3/envs/COVID/lib/python3.7/site-packages/tensorflow/python/keras/engine/training.py:1905: UserWarning: `Model.predict_generator` is deprecated and will be removed in a future version. Please use `Model.predict`, which supports generators.\n",
      "  warnings.warn('`Model.predict_generator` is deprecated and '\n"
     ]
    },
    {
     "name": "stdout",
     "output_type": "stream",
     "text": [
      " | val_auc: 0.5786635236972748\n"
     ]
    },
    {
     "name": "stderr",
     "output_type": "stream",
     "text": [
      "/home/pmp/anaconda3/envs/COVID/lib/python3.7/site-packages/tensorflow/python/keras/engine/training.py:1905: UserWarning: `Model.predict_generator` is deprecated and will be removed in a future version. Please use `Model.predict`, which supports generators.\n",
      "  warnings.warn('`Model.predict_generator` is deprecated and '\n"
     ]
    },
    {
     "name": "stdout",
     "output_type": "stream",
     "text": [
      " | test_auc: 0.6688746438746438\n",
      "Epoch 9/30\n",
      "36/36 - 11s - loss: 0.1612 - auc: 0.9833 - val_loss: 0.7199 - val_auc: 0.5676\n"
     ]
    },
    {
     "name": "stderr",
     "output_type": "stream",
     "text": [
      "/home/pmp/anaconda3/envs/COVID/lib/python3.7/site-packages/tensorflow/python/keras/engine/training.py:1905: UserWarning: `Model.predict_generator` is deprecated and will be removed in a future version. Please use `Model.predict`, which supports generators.\n",
      "  warnings.warn('`Model.predict_generator` is deprecated and '\n"
     ]
    },
    {
     "name": "stdout",
     "output_type": "stream",
     "text": [
      " | val_auc: 0.568556019857852\n"
     ]
    },
    {
     "name": "stderr",
     "output_type": "stream",
     "text": [
      "/home/pmp/anaconda3/envs/COVID/lib/python3.7/site-packages/tensorflow/python/keras/engine/training.py:1905: UserWarning: `Model.predict_generator` is deprecated and will be removed in a future version. Please use `Model.predict`, which supports generators.\n",
      "  warnings.warn('`Model.predict_generator` is deprecated and '\n"
     ]
    },
    {
     "name": "stdout",
     "output_type": "stream",
     "text": [
      " | test_auc: 0.661502849002849\n",
      "Epoch 10/30\n",
      "36/36 - 12s - loss: 0.2439 - auc: 0.9656 - val_loss: 1.1497 - val_auc: 0.5726\n"
     ]
    },
    {
     "name": "stderr",
     "output_type": "stream",
     "text": [
      "/home/pmp/anaconda3/envs/COVID/lib/python3.7/site-packages/tensorflow/python/keras/engine/training.py:1905: UserWarning: `Model.predict_generator` is deprecated and will be removed in a future version. Please use `Model.predict`, which supports generators.\n",
      "  warnings.warn('`Model.predict_generator` is deprecated and '\n"
     ]
    },
    {
     "name": "stdout",
     "output_type": "stream",
     "text": [
      " | val_auc: 0.571591842565806\n"
     ]
    },
    {
     "name": "stderr",
     "output_type": "stream",
     "text": [
      "/home/pmp/anaconda3/envs/COVID/lib/python3.7/site-packages/tensorflow/python/keras/engine/training.py:1905: UserWarning: `Model.predict_generator` is deprecated and will be removed in a future version. Please use `Model.predict`, which supports generators.\n",
      "  warnings.warn('`Model.predict_generator` is deprecated and '\n"
     ]
    },
    {
     "name": "stdout",
     "output_type": "stream",
     "text": [
      " | test_auc: 0.6595797720797721\n",
      "Epoch 11/30\n",
      "36/36 - 11s - loss: 0.1854 - auc: 0.9785 - val_loss: 1.1540 - val_auc: 0.5598\n"
     ]
    },
    {
     "name": "stderr",
     "output_type": "stream",
     "text": [
      "/home/pmp/anaconda3/envs/COVID/lib/python3.7/site-packages/tensorflow/python/keras/engine/training.py:1905: UserWarning: `Model.predict_generator` is deprecated and will be removed in a future version. Please use `Model.predict`, which supports generators.\n",
      "  warnings.warn('`Model.predict_generator` is deprecated and '\n"
     ]
    },
    {
     "name": "stdout",
     "output_type": "stream",
     "text": [
      " | val_auc: 0.5600557162755813\n"
     ]
    },
    {
     "name": "stderr",
     "output_type": "stream",
     "text": [
      "/home/pmp/anaconda3/envs/COVID/lib/python3.7/site-packages/tensorflow/python/keras/engine/training.py:1905: UserWarning: `Model.predict_generator` is deprecated and will be removed in a future version. Please use `Model.predict`, which supports generators.\n",
      "  warnings.warn('`Model.predict_generator` is deprecated and '\n"
     ]
    },
    {
     "name": "stdout",
     "output_type": "stream",
     "text": [
      " | test_auc: 0.652065527065527\n",
      "Epoch 12/30\n",
      "36/36 - 12s - loss: 0.0954 - auc: 0.9931 - val_loss: 1.5862 - val_auc: 0.5729\n"
     ]
    },
    {
     "name": "stderr",
     "output_type": "stream",
     "text": [
      "/home/pmp/anaconda3/envs/COVID/lib/python3.7/site-packages/tensorflow/python/keras/engine/training.py:1905: UserWarning: `Model.predict_generator` is deprecated and will be removed in a future version. Please use `Model.predict`, which supports generators.\n",
      "  warnings.warn('`Model.predict_generator` is deprecated and '\n"
     ]
    },
    {
     "name": "stdout",
     "output_type": "stream",
     "text": [
      " | val_auc: 0.571698989249616\n"
     ]
    },
    {
     "name": "stderr",
     "output_type": "stream",
     "text": [
      "/home/pmp/anaconda3/envs/COVID/lib/python3.7/site-packages/tensorflow/python/keras/engine/training.py:1905: UserWarning: `Model.predict_generator` is deprecated and will be removed in a future version. Please use `Model.predict`, which supports generators.\n",
      "  warnings.warn('`Model.predict_generator` is deprecated and '\n"
     ]
    },
    {
     "name": "stdout",
     "output_type": "stream",
     "text": [
      " | test_auc: 0.6444800569800571\n",
      "Epoch 13/30\n",
      "36/36 - 12s - loss: 0.0833 - auc: 0.9950 - val_loss: 0.8938 - val_auc: 0.5863\n"
     ]
    },
    {
     "name": "stderr",
     "output_type": "stream",
     "text": [
      "/home/pmp/anaconda3/envs/COVID/lib/python3.7/site-packages/tensorflow/python/keras/engine/training.py:1905: UserWarning: `Model.predict_generator` is deprecated and will be removed in a future version. Please use `Model.predict`, which supports generators.\n",
      "  warnings.warn('`Model.predict_generator` is deprecated and '\n"
     ]
    },
    {
     "name": "stdout",
     "output_type": "stream",
     "text": [
      " | val_auc: 0.5868066716668452\n"
     ]
    },
    {
     "name": "stderr",
     "output_type": "stream",
     "text": [
      "/home/pmp/anaconda3/envs/COVID/lib/python3.7/site-packages/tensorflow/python/keras/engine/training.py:1905: UserWarning: `Model.predict_generator` is deprecated and will be removed in a future version. Please use `Model.predict`, which supports generators.\n",
      "  warnings.warn('`Model.predict_generator` is deprecated and '\n"
     ]
    },
    {
     "name": "stdout",
     "output_type": "stream",
     "text": [
      " | test_auc: 0.6473646723646724\n",
      "Epoch 14/30\n",
      "36/36 - 12s - loss: 0.0469 - auc: 0.9981 - val_loss: 1.8424 - val_auc: 0.5533\n"
     ]
    },
    {
     "name": "stderr",
     "output_type": "stream",
     "text": [
      "/home/pmp/anaconda3/envs/COVID/lib/python3.7/site-packages/tensorflow/python/keras/engine/training.py:1905: UserWarning: `Model.predict_generator` is deprecated and will be removed in a future version. Please use `Model.predict`, which supports generators.\n",
      "  warnings.warn('`Model.predict_generator` is deprecated and '\n"
     ]
    },
    {
     "name": "stdout",
     "output_type": "stream",
     "text": [
      " | val_auc: 0.5580556448444588\n"
     ]
    },
    {
     "name": "stderr",
     "output_type": "stream",
     "text": [
      "/home/pmp/anaconda3/envs/COVID/lib/python3.7/site-packages/tensorflow/python/keras/engine/training.py:1905: UserWarning: `Model.predict_generator` is deprecated and will be removed in a future version. Please use `Model.predict`, which supports generators.\n",
      "  warnings.warn('`Model.predict_generator` is deprecated and '\n"
     ]
    },
    {
     "name": "stdout",
     "output_type": "stream",
     "text": [
      " | test_auc: 0.6511396011396011\n",
      "Epoch 15/30\n",
      "36/36 - 12s - loss: 0.0483 - auc: 0.9975 - val_loss: 1.8732 - val_auc: 0.5534\n"
     ]
    },
    {
     "name": "stderr",
     "output_type": "stream",
     "text": [
      "/home/pmp/anaconda3/envs/COVID/lib/python3.7/site-packages/tensorflow/python/keras/engine/training.py:1905: UserWarning: `Model.predict_generator` is deprecated and will be removed in a future version. Please use `Model.predict`, which supports generators.\n",
      "  warnings.warn('`Model.predict_generator` is deprecated and '\n"
     ]
    },
    {
     "name": "stdout",
     "output_type": "stream",
     "text": [
      " | val_auc: 0.5607343119397121\n"
     ]
    },
    {
     "name": "stderr",
     "output_type": "stream",
     "text": [
      "/home/pmp/anaconda3/envs/COVID/lib/python3.7/site-packages/tensorflow/python/keras/engine/training.py:1905: UserWarning: `Model.predict_generator` is deprecated and will be removed in a future version. Please use `Model.predict`, which supports generators.\n",
      "  warnings.warn('`Model.predict_generator` is deprecated and '\n"
     ]
    },
    {
     "name": "stdout",
     "output_type": "stream",
     "text": [
      " | test_auc: 0.6523148148148148\n",
      "Epoch 16/30\n",
      "36/36 - 12s - loss: 0.0324 - auc: 0.9988 - val_loss: 1.8514 - val_auc: 0.5635\n"
     ]
    },
    {
     "name": "stderr",
     "output_type": "stream",
     "text": [
      "/home/pmp/anaconda3/envs/COVID/lib/python3.7/site-packages/tensorflow/python/keras/engine/training.py:1905: UserWarning: `Model.predict_generator` is deprecated and will be removed in a future version. Please use `Model.predict`, which supports generators.\n",
      "  warnings.warn('`Model.predict_generator` is deprecated and '\n"
     ]
    },
    {
     "name": "stdout",
     "output_type": "stream",
     "text": [
      " | val_auc: 0.5603057252044716\n"
     ]
    },
    {
     "name": "stderr",
     "output_type": "stream",
     "text": [
      "/home/pmp/anaconda3/envs/COVID/lib/python3.7/site-packages/tensorflow/python/keras/engine/training.py:1905: UserWarning: `Model.predict_generator` is deprecated and will be removed in a future version. Please use `Model.predict`, which supports generators.\n",
      "  warnings.warn('`Model.predict_generator` is deprecated and '\n"
     ]
    },
    {
     "name": "stdout",
     "output_type": "stream",
     "text": [
      " | test_auc: 0.6519230769230769\n",
      "Epoch 17/30\n",
      "36/36 - 12s - loss: 0.0237 - auc: 0.9997 - val_loss: 1.8183 - val_auc: 0.5626\n"
     ]
    },
    {
     "name": "stderr",
     "output_type": "stream",
     "text": [
      "/home/pmp/anaconda3/envs/COVID/lib/python3.7/site-packages/tensorflow/python/keras/engine/training.py:1905: UserWarning: `Model.predict_generator` is deprecated and will be removed in a future version. Please use `Model.predict`, which supports generators.\n",
      "  warnings.warn('`Model.predict_generator` is deprecated and '\n"
     ]
    },
    {
     "name": "stdout",
     "output_type": "stream",
     "text": [
      " | val_auc: 0.5644487303117969\n"
     ]
    },
    {
     "name": "stderr",
     "output_type": "stream",
     "text": [
      "/home/pmp/anaconda3/envs/COVID/lib/python3.7/site-packages/tensorflow/python/keras/engine/training.py:1905: UserWarning: `Model.predict_generator` is deprecated and will be removed in a future version. Please use `Model.predict`, which supports generators.\n",
      "  warnings.warn('`Model.predict_generator` is deprecated and '\n"
     ]
    },
    {
     "name": "stdout",
     "output_type": "stream",
     "text": [
      " | test_auc: 0.6514245014245014\n",
      "Epoch 18/30\n",
      "36/36 - 12s - loss: 0.0218 - auc: 0.9998 - val_loss: 1.7259 - val_auc: 0.5703\n"
     ]
    },
    {
     "name": "stderr",
     "output_type": "stream",
     "text": [
      "/home/pmp/anaconda3/envs/COVID/lib/python3.7/site-packages/tensorflow/python/keras/engine/training.py:1905: UserWarning: `Model.predict_generator` is deprecated and will be removed in a future version. Please use `Model.predict`, which supports generators.\n",
      "  warnings.warn('`Model.predict_generator` is deprecated and '\n"
     ]
    },
    {
     "name": "stdout",
     "output_type": "stream",
     "text": [
      " | val_auc: 0.5698417800635738\n"
     ]
    },
    {
     "name": "stderr",
     "output_type": "stream",
     "text": [
      "/home/pmp/anaconda3/envs/COVID/lib/python3.7/site-packages/tensorflow/python/keras/engine/training.py:1905: UserWarning: `Model.predict_generator` is deprecated and will be removed in a future version. Please use `Model.predict`, which supports generators.\n",
      "  warnings.warn('`Model.predict_generator` is deprecated and '\n"
     ]
    },
    {
     "name": "stdout",
     "output_type": "stream",
     "text": [
      " | test_auc: 0.6602207977207979\n",
      "Epoch 19/30\n",
      "36/36 - 12s - loss: 0.0305 - auc: 0.9995 - val_loss: 1.4696 - val_auc: 0.5956\n"
     ]
    },
    {
     "name": "stderr",
     "output_type": "stream",
     "text": [
      "/home/pmp/anaconda3/envs/COVID/lib/python3.7/site-packages/tensorflow/python/keras/engine/training.py:1905: UserWarning: `Model.predict_generator` is deprecated and will be removed in a future version. Please use `Model.predict`, which supports generators.\n",
      "  warnings.warn('`Model.predict_generator` is deprecated and '\n"
     ]
    },
    {
     "name": "stdout",
     "output_type": "stream",
     "text": [
      " | val_auc: 0.5950569663202258\n"
     ]
    },
    {
     "name": "stderr",
     "output_type": "stream",
     "text": [
      "/home/pmp/anaconda3/envs/COVID/lib/python3.7/site-packages/tensorflow/python/keras/engine/training.py:1905: UserWarning: `Model.predict_generator` is deprecated and will be removed in a future version. Please use `Model.predict`, which supports generators.\n",
      "  warnings.warn('`Model.predict_generator` is deprecated and '\n"
     ]
    },
    {
     "name": "stdout",
     "output_type": "stream",
     "text": [
      " | test_auc: 0.6882478632478632\n",
      "Epoch 20/30\n",
      "36/36 - 12s - loss: 0.0354 - auc: 0.9992 - val_loss: 0.7863 - val_auc: 0.5737\n"
     ]
    },
    {
     "name": "stderr",
     "output_type": "stream",
     "text": [
      "/home/pmp/anaconda3/envs/COVID/lib/python3.7/site-packages/tensorflow/python/keras/engine/training.py:1905: UserWarning: `Model.predict_generator` is deprecated and will be removed in a future version. Please use `Model.predict`, which supports generators.\n",
      "  warnings.warn('`Model.predict_generator` is deprecated and '\n"
     ]
    },
    {
     "name": "stdout",
     "output_type": "stream",
     "text": [
      " | val_auc: 0.5737347762420086\n"
     ]
    },
    {
     "name": "stderr",
     "output_type": "stream",
     "text": [
      "/home/pmp/anaconda3/envs/COVID/lib/python3.7/site-packages/tensorflow/python/keras/engine/training.py:1905: UserWarning: `Model.predict_generator` is deprecated and will be removed in a future version. Please use `Model.predict`, which supports generators.\n",
      "  warnings.warn('`Model.predict_generator` is deprecated and '\n"
     ]
    },
    {
     "name": "stdout",
     "output_type": "stream",
     "text": [
      " | test_auc: 0.6782051282051281\n",
      "Epoch 21/30\n",
      "36/36 - 12s - loss: 0.0365 - auc: 0.9991 - val_loss: 0.9090 - val_auc: 0.5593\n"
     ]
    },
    {
     "name": "stderr",
     "output_type": "stream",
     "text": [
      "/home/pmp/anaconda3/envs/COVID/lib/python3.7/site-packages/tensorflow/python/keras/engine/training.py:1905: UserWarning: `Model.predict_generator` is deprecated and will be removed in a future version. Please use `Model.predict`, which supports generators.\n",
      "  warnings.warn('`Model.predict_generator` is deprecated and '\n"
     ]
    },
    {
     "name": "stdout",
     "output_type": "stream",
     "text": [
      " | val_auc: 0.5592699739276402\n"
     ]
    },
    {
     "name": "stderr",
     "output_type": "stream",
     "text": [
      "/home/pmp/anaconda3/envs/COVID/lib/python3.7/site-packages/tensorflow/python/keras/engine/training.py:1905: UserWarning: `Model.predict_generator` is deprecated and will be removed in a future version. Please use `Model.predict`, which supports generators.\n",
      "  warnings.warn('`Model.predict_generator` is deprecated and '\n"
     ]
    },
    {
     "name": "stdout",
     "output_type": "stream",
     "text": [
      " | test_auc: 0.6242165242165242\n",
      "Epoch 22/30\n",
      "36/36 - 12s - loss: 0.0406 - auc: 0.9990 - val_loss: 1.3627 - val_auc: 0.6034\n"
     ]
    },
    {
     "name": "stderr",
     "output_type": "stream",
     "text": [
      "/home/pmp/anaconda3/envs/COVID/lib/python3.7/site-packages/tensorflow/python/keras/engine/training.py:1905: UserWarning: `Model.predict_generator` is deprecated and will be removed in a future version. Please use `Model.predict`, which supports generators.\n",
      "  warnings.warn('`Model.predict_generator` is deprecated and '\n"
     ]
    },
    {
     "name": "stdout",
     "output_type": "stream",
     "text": [
      " | val_auc: 0.60630736812029\n"
     ]
    },
    {
     "name": "stderr",
     "output_type": "stream",
     "text": [
      "/home/pmp/anaconda3/envs/COVID/lib/python3.7/site-packages/tensorflow/python/keras/engine/training.py:1905: UserWarning: `Model.predict_generator` is deprecated and will be removed in a future version. Please use `Model.predict`, which supports generators.\n",
      "  warnings.warn('`Model.predict_generator` is deprecated and '\n"
     ]
    },
    {
     "name": "stdout",
     "output_type": "stream",
     "text": [
      " | test_auc: 0.6956196581196582\n",
      "Epoch 23/30\n",
      "36/36 - 12s - loss: 0.0782 - auc: 0.9950 - val_loss: 1.3702 - val_auc: 0.6341\n"
     ]
    },
    {
     "name": "stderr",
     "output_type": "stream",
     "text": [
      "/home/pmp/anaconda3/envs/COVID/lib/python3.7/site-packages/tensorflow/python/keras/engine/training.py:1905: UserWarning: `Model.predict_generator` is deprecated and will be removed in a future version. Please use `Model.predict`, which supports generators.\n",
      "  warnings.warn('`Model.predict_generator` is deprecated and '\n"
     ]
    },
    {
     "name": "stdout",
     "output_type": "stream",
     "text": [
      " | val_auc: 0.6317011321832923\n"
     ]
    },
    {
     "name": "stderr",
     "output_type": "stream",
     "text": [
      "/home/pmp/anaconda3/envs/COVID/lib/python3.7/site-packages/tensorflow/python/keras/engine/training.py:1905: UserWarning: `Model.predict_generator` is deprecated and will be removed in a future version. Please use `Model.predict`, which supports generators.\n",
      "  warnings.warn('`Model.predict_generator` is deprecated and '\n"
     ]
    },
    {
     "name": "stdout",
     "output_type": "stream",
     "text": [
      " | test_auc: 0.6717236467236467\n",
      "Epoch 24/30\n",
      "36/36 - 12s - loss: 0.1295 - auc: 0.9902 - val_loss: 1.0055 - val_auc: 0.6071\n"
     ]
    },
    {
     "name": "stderr",
     "output_type": "stream",
     "text": [
      "/home/pmp/anaconda3/envs/COVID/lib/python3.7/site-packages/tensorflow/python/keras/engine/training.py:1905: UserWarning: `Model.predict_generator` is deprecated and will be removed in a future version. Please use `Model.predict`, which supports generators.\n",
      "  warnings.warn('`Model.predict_generator` is deprecated and '\n"
     ]
    },
    {
     "name": "stdout",
     "output_type": "stream",
     "text": [
      " | val_auc: 0.6079859994999821\n"
     ]
    },
    {
     "name": "stderr",
     "output_type": "stream",
     "text": [
      "/home/pmp/anaconda3/envs/COVID/lib/python3.7/site-packages/tensorflow/python/keras/engine/training.py:1905: UserWarning: `Model.predict_generator` is deprecated and will be removed in a future version. Please use `Model.predict`, which supports generators.\n",
      "  warnings.warn('`Model.predict_generator` is deprecated and '\n"
     ]
    },
    {
     "name": "stdout",
     "output_type": "stream",
     "text": [
      " | test_auc: 0.6580484330484331\n",
      "Epoch 25/30\n",
      "36/36 - 12s - loss: 0.1521 - auc: 0.9847 - val_loss: 0.8447 - val_auc: 0.8046\n"
     ]
    },
    {
     "name": "stderr",
     "output_type": "stream",
     "text": [
      "/home/pmp/anaconda3/envs/COVID/lib/python3.7/site-packages/tensorflow/python/keras/engine/training.py:1905: UserWarning: `Model.predict_generator` is deprecated and will be removed in a future version. Please use `Model.predict`, which supports generators.\n",
      "  warnings.warn('`Model.predict_generator` is deprecated and '\n"
     ]
    },
    {
     "name": "stdout",
     "output_type": "stream",
     "text": [
      " | val_auc: 0.8059930711811137\n"
     ]
    },
    {
     "name": "stderr",
     "output_type": "stream",
     "text": [
      "/home/pmp/anaconda3/envs/COVID/lib/python3.7/site-packages/tensorflow/python/keras/engine/training.py:1905: UserWarning: `Model.predict_generator` is deprecated and will be removed in a future version. Please use `Model.predict`, which supports generators.\n",
      "  warnings.warn('`Model.predict_generator` is deprecated and '\n"
     ]
    },
    {
     "name": "stdout",
     "output_type": "stream",
     "text": [
      " | test_auc: 0.8212250712250712\n",
      "Epoch 26/30\n",
      "36/36 - 12s - loss: 0.0925 - auc: 0.9930 - val_loss: 0.7654 - val_auc: 0.8378\n"
     ]
    },
    {
     "name": "stderr",
     "output_type": "stream",
     "text": [
      "/home/pmp/anaconda3/envs/COVID/lib/python3.7/site-packages/tensorflow/python/keras/engine/training.py:1905: UserWarning: `Model.predict_generator` is deprecated and will be removed in a future version. Please use `Model.predict`, which supports generators.\n",
      "  warnings.warn('`Model.predict_generator` is deprecated and '\n"
     ]
    },
    {
     "name": "stdout",
     "output_type": "stream",
     "text": [
      " | val_auc: 0.8386728097432051\n"
     ]
    },
    {
     "name": "stderr",
     "output_type": "stream",
     "text": [
      "/home/pmp/anaconda3/envs/COVID/lib/python3.7/site-packages/tensorflow/python/keras/engine/training.py:1905: UserWarning: `Model.predict_generator` is deprecated and will be removed in a future version. Please use `Model.predict`, which supports generators.\n",
      "  warnings.warn('`Model.predict_generator` is deprecated and '\n"
     ]
    },
    {
     "name": "stdout",
     "output_type": "stream",
     "text": [
      " | test_auc: 0.8553418803418804\n",
      "Epoch 27/30\n",
      "36/36 - 12s - loss: 0.0595 - auc: 0.9976 - val_loss: 0.7321 - val_auc: 0.8557\n"
     ]
    },
    {
     "name": "stderr",
     "output_type": "stream",
     "text": [
      "/home/pmp/anaconda3/envs/COVID/lib/python3.7/site-packages/tensorflow/python/keras/engine/training.py:1905: UserWarning: `Model.predict_generator` is deprecated and will be removed in a future version. Please use `Model.predict`, which supports generators.\n",
      "  warnings.warn('`Model.predict_generator` is deprecated and '\n"
     ]
    },
    {
     "name": "stdout",
     "output_type": "stream",
     "text": [
      " | val_auc: 0.8589949641058611\n"
     ]
    },
    {
     "name": "stderr",
     "output_type": "stream",
     "text": [
      "/home/pmp/anaconda3/envs/COVID/lib/python3.7/site-packages/tensorflow/python/keras/engine/training.py:1905: UserWarning: `Model.predict_generator` is deprecated and will be removed in a future version. Please use `Model.predict`, which supports generators.\n",
      "  warnings.warn('`Model.predict_generator` is deprecated and '\n"
     ]
    },
    {
     "name": "stdout",
     "output_type": "stream",
     "text": [
      " | test_auc: 0.8623219373219373\n",
      "Epoch 28/30\n",
      "36/36 - 12s - loss: 0.0352 - auc: 0.9981 - val_loss: 1.0047 - val_auc: 0.8340\n"
     ]
    },
    {
     "name": "stderr",
     "output_type": "stream",
     "text": [
      "/home/pmp/anaconda3/envs/COVID/lib/python3.7/site-packages/tensorflow/python/keras/engine/training.py:1905: UserWarning: `Model.predict_generator` is deprecated and will be removed in a future version. Please use `Model.predict`, which supports generators.\n",
      "  warnings.warn('`Model.predict_generator` is deprecated and '\n"
     ]
    },
    {
     "name": "stdout",
     "output_type": "stream",
     "text": [
      " | val_auc: 0.8407800278581379\n"
     ]
    },
    {
     "name": "stderr",
     "output_type": "stream",
     "text": [
      "/home/pmp/anaconda3/envs/COVID/lib/python3.7/site-packages/tensorflow/python/keras/engine/training.py:1905: UserWarning: `Model.predict_generator` is deprecated and will be removed in a future version. Please use `Model.predict`, which supports generators.\n",
      "  warnings.warn('`Model.predict_generator` is deprecated and '\n"
     ]
    },
    {
     "name": "stdout",
     "output_type": "stream",
     "text": [
      " | test_auc: 0.8301282051282052\n",
      "Epoch 29/30\n",
      "36/36 - 12s - loss: 0.0075 - auc: 1.0000 - val_loss: 0.5489 - val_auc: 0.9113\n"
     ]
    },
    {
     "name": "stderr",
     "output_type": "stream",
     "text": [
      "/home/pmp/anaconda3/envs/COVID/lib/python3.7/site-packages/tensorflow/python/keras/engine/training.py:1905: UserWarning: `Model.predict_generator` is deprecated and will be removed in a future version. Please use `Model.predict`, which supports generators.\n",
      "  warnings.warn('`Model.predict_generator` is deprecated and '\n"
     ]
    },
    {
     "name": "stdout",
     "output_type": "stream",
     "text": [
      " | val_auc: 0.9159255687703132\n"
     ]
    },
    {
     "name": "stderr",
     "output_type": "stream",
     "text": [
      "/home/pmp/anaconda3/envs/COVID/lib/python3.7/site-packages/tensorflow/python/keras/engine/training.py:1905: UserWarning: `Model.predict_generator` is deprecated and will be removed in a future version. Please use `Model.predict`, which supports generators.\n",
      "  warnings.warn('`Model.predict_generator` is deprecated and '\n"
     ]
    },
    {
     "name": "stdout",
     "output_type": "stream",
     "text": [
      " | test_auc: 0.914351851851852\n",
      "Epoch 30/30\n",
      "36/36 - 12s - loss: 0.0034 - auc: 1.0000 - val_loss: 0.4172 - val_auc: 0.9444\n"
     ]
    },
    {
     "name": "stderr",
     "output_type": "stream",
     "text": [
      "/home/pmp/anaconda3/envs/COVID/lib/python3.7/site-packages/tensorflow/python/keras/engine/training.py:1905: UserWarning: `Model.predict_generator` is deprecated and will be removed in a future version. Please use `Model.predict`, which supports generators.\n",
      "  warnings.warn('`Model.predict_generator` is deprecated and '\n"
     ]
    },
    {
     "name": "stdout",
     "output_type": "stream",
     "text": [
      " | val_auc: 0.9451944712311154\n"
     ]
    },
    {
     "name": "stderr",
     "output_type": "stream",
     "text": [
      "/home/pmp/anaconda3/envs/COVID/lib/python3.7/site-packages/tensorflow/python/keras/engine/training.py:1905: UserWarning: `Model.predict_generator` is deprecated and will be removed in a future version. Please use `Model.predict`, which supports generators.\n",
      "  warnings.warn('`Model.predict_generator` is deprecated and '\n"
     ]
    },
    {
     "name": "stdout",
     "output_type": "stream",
     "text": [
      " | test_auc: 0.948539886039886\n"
     ]
    },
    {
     "name": "stderr",
     "output_type": "stream",
     "text": [
      "/home/pmp/anaconda3/envs/COVID/lib/python3.7/site-packages/tensorflow/python/keras/engine/training.py:1877: UserWarning: `Model.evaluate_generator` is deprecated and will be removed in a future version. Please use `Model.evaluate`, which supports generators.\n",
      "  warnings.warn('`Model.evaluate_generator` is deprecated and '\n"
     ]
    },
    {
     "name": "stdout",
     "output_type": "stream",
     "text": [
      "\n",
      "Results: Loss = 0.40009742975234985 , AUC = 0.9496259689331055 \n",
      "\n"
     ]
    },
    {
     "name": "stderr",
     "output_type": "stream",
     "text": [
      "/home/pmp/anaconda3/envs/COVID/lib/python3.7/site-packages/tensorflow/python/keras/engine/training.py:1905: UserWarning: `Model.predict_generator` is deprecated and will be removed in a future version. Please use `Model.predict`, which supports generators.\n",
      "  warnings.warn('`Model.predict_generator` is deprecated and '\n"
     ]
    },
    {
     "name": "stdout",
     "output_type": "stream",
     "text": [
      "val: 0.9451944712311154\n",
      "test 0.948539886039886\n",
      "\n",
      "-----------------------------------------------------------------\n"
     ]
    }
   ],
   "source": [
    "from sklearn.metrics import classification_report\n",
    "from keras import backend as K\n",
    "# Create directory to save models\n",
    "#rt_sv_dir = '/home/pmp/Workspace/Myoungjin/CoughRecognition/virufy-covid-main/cough/model2/'\n",
    "#!rm -r {rt_sv_dir}\n",
    "#os.mkdir(rt_sv_dir)\n",
    "'''\n",
    "gpus = tf.config.experimental.list_physical_devices('GPU')\n",
    "if gpus:\n",
    "    # 텐서플로가 첫 번째 GPU에 1GB 메모리만 할당하도록 제한\n",
    "    try:\n",
    "        tf.config.experimental.set_virtual_device_configuration(gpus[0],[tf.config.experimental.VirtualDeviceConfiguration(memory_limit=4506)])\n",
    "    except RuntimeError as e:\n",
    "        # 프로그램 시작시에 가상 장치가 설정되어야만 합니다\n",
    "        print(e)\n",
    "'''\n",
    "\n",
    "MERGM = build_model()\n",
    "\n",
    "MERGM.compile(\n",
    "    optimizer = 'Adam',\n",
    "    loss = 'BinaryCrossentropy',\n",
    "    metrics=['AUC'])\n",
    "\n",
    "\n",
    "tfeatures = DATA['MFCCS'][:int(0.7*data_len)]\n",
    "#textra    = DATA[RUN]['EXTRA'][:int(0.7*len(data_x))]\n",
    "timgs     = DATA['MEL'][:int(0.7*data_len)]\n",
    "labels    = DATA['LABELS'][:int(0.7*data_len)]\n",
    "\n",
    "test_features= DATA['MFCCS'][ int(0.7*data_len): int(0.85*data_len)]\n",
    "#test_extra   = DATA[RUN]['EXTRA'][ int(0.7*len(data_x)): int(0.85*len(data_x))]\n",
    "test_imgs    = DATA['MEL'][ int(0.7*data_len): int(0.85*data_len)]\n",
    "test_labels  = DATA['LABELS'][ int(0.7*data_len): int(0.85*data_len)]\n",
    "                                        \n",
    "val_features= DATA['MFCCS'][ int(0.85*data_len) :]\n",
    "#val_extra   = DATA[RUN]['EXTRA'][ int(0.85*len(data_x)) :]\n",
    "val_imgs    = DATA['MEL'][ int(0.85*data_len) :]\n",
    "val_labels  = DATA['LABELS'][ int(0.85*data_len) :]\n",
    "#print(tfeatures.shape)\n",
    "\n",
    "   \n",
    "#imgs_em      = TripleInputGenerator(tfeatures,timgs,labels,batch_size=48,target_size=(224,224))\n",
    "#TEST          = TripleInputGenerator(test_features,test_imgs, test_labels,batch_size=48,target_size=(224,224))\n",
    "#VAL         = TripleInputGenerator(val_features,val_imgs, val_labels,batch_size=48,target_size=(224,224))\n",
    "imgs_em      = TripleInputGenerator(tfeatures,timgs, labels,batch_size=48,target_size=(224,224))\n",
    "TEST          = TripleInputGenerator(test_features,test_imgs, test_labels,batch_size=48,target_size=(224,224))\n",
    "VAL         = TripleInputGenerator(val_features,val_imgs, val_labels,batch_size=48,target_size=(224,224))\n",
    "\n",
    "\n",
    "evaluator = Evaluation(VAL, val_labels, TEST, test_labels)\n",
    "#checkpointer = keras.callbacks.ModelCheckpoint(filepath=os.path.join(os.path.join(rt_sv_dir, str(RUN)),\n",
    "#            \"{epoch:03d}--{val_loss:.3f}--{loss:.3f}.hdf5\"), save_best_only=False)\n",
    "#os.mkdir(os.path.join(rt_sv_dir, str(RUN)))\n",
    "MERGM.fit_generator(\n",
    "    imgs_em,\n",
    "    epochs=30, #epochs 40,50\n",
    "    validation_data=VAL, \n",
    "    verbose=2, \n",
    "    callbacks=[evaluator])#, checkpointer])\n",
    "\n",
    "MERGM_Record1 = MERGM.evaluate_generator(\n",
    "    TEST\n",
    ")\n",
    "print()\n",
    "print('Results: Loss = {} , AUC = {} '.format(MERGM_Record1[0],MERGM_Record1[1]))\n",
    "\n",
    "print()\n",
    "from sklearn.metrics import roc_auc_score\n",
    "from sklearn.metrics import roc_curve\n",
    "\n",
    "y_val  = val_labels\n",
    "y_preds_val = MERGM.predict_generator(VAL)\n",
    "print('val:', roc_auc_score(y_val[:len(y_preds_val)], y_preds_val))\n",
    "\n",
    "y_test  = test_labels\n",
    "y_preds_test = MERGM.predict(TEST)\n",
    "print('test', roc_auc_score(y_test[:len(y_preds_test)], y_preds_test))\n",
    "\n",
    "print()\n",
    "print('-----------------------------------------------------------------')\n",
    "    \n",
    "    \n"
   ]
  },
  {
   "cell_type": "code",
   "execution_count": 11,
   "metadata": {},
   "outputs": [
    {
     "name": "stderr",
     "output_type": "stream",
     "text": [
      "/home/pmp/anaconda3/envs/COVID/lib/python3.7/site-packages/tensorflow/python/keras/engine/training.py:1877: UserWarning: `Model.evaluate_generator` is deprecated and will be removed in a future version. Please use `Model.evaluate`, which supports generators.\n",
      "  warnings.warn('`Model.evaluate_generator` is deprecated and '\n"
     ]
    },
    {
     "name": "stdout",
     "output_type": "stream",
     "text": [
      "\n",
      "Results: Loss = 0.5326367020606995 , AUC = 0.9383211135864258 \n",
      "\n"
     ]
    },
    {
     "name": "stderr",
     "output_type": "stream",
     "text": [
      "/home/pmp/anaconda3/envs/COVID/lib/python3.7/site-packages/tensorflow/python/keras/engine/training.py:1905: UserWarning: `Model.predict_generator` is deprecated and will be removed in a future version. Please use `Model.predict`, which supports generators.\n",
      "  warnings.warn('`Model.predict_generator` is deprecated and '\n"
     ]
    },
    {
     "name": "stdout",
     "output_type": "stream",
     "text": [
      "val: 0.9782801261382561\n",
      "test 0.9641668158224449\n",
      "\n",
      "-----------------------------------------------------------------\n"
     ]
    }
   ],
   "source": [
    "MERGM_Record1 = MERGM.evaluate_generator(\n",
    "    TEST\n",
    ")\n",
    "print()\n",
    "print('Results: Loss = {} , AUC = {} '.format(MERGM_Record1[0],MERGM_Record1[1]))\n",
    "\n",
    "print()\n",
    "from sklearn.metrics import roc_auc_score\n",
    "from sklearn.metrics import roc_curve\n",
    "\n",
    "y_val  = val_labels\n",
    "y_preds_val = MERGM.predict_generator(VAL)\n",
    "print('val:', roc_auc_score(y_val[:len(y_preds_val)], y_preds_val))\n",
    "\n",
    "y_test  = test_labels\n",
    "y_preds_test = MERGM.predict(TEST)\n",
    "print('test', roc_auc_score(y_test[:len(y_preds_test)], y_preds_test))\n",
    "\n",
    "print()\n",
    "print('-----------------------------------------------------------------')\n",
    "    "
   ]
  },
  {
   "cell_type": "code",
   "execution_count": 44,
   "metadata": {},
   "outputs": [
    {
     "name": "stdout",
     "output_type": "stream",
     "text": [
      "              precision    recall  f1-score   support\n",
      "\n",
      "           0       0.91      0.90      0.90       183\n",
      "           1       0.88      0.89      0.89       153\n",
      "\n",
      "    accuracy                           0.90       336\n",
      "   macro avg       0.89      0.90      0.90       336\n",
      "weighted avg       0.90      0.90      0.90       336\n",
      "\n",
      "              precision    recall  f1-score   support\n",
      "\n",
      "           0       0.90      0.87      0.89       180\n",
      "           1       0.86      0.89      0.87       156\n",
      "\n",
      "    accuracy                           0.88       336\n",
      "   macro avg       0.88      0.88      0.88       336\n",
      "weighted avg       0.88      0.88      0.88       336\n",
      "\n"
     ]
    }
   ],
   "source": [
    "y_p_v=[]\n",
    "for i in range(len(y_preds_val)):\n",
    "    if y_preds_val[i] >= 0.5:\n",
    "        y_p_v.append(1)\n",
    "    else:\n",
    "        y_p_v.append(0)\n",
    "\n",
    "print(classification_report(y_val[:len(y_preds_val)],y_p_v))\n",
    "\n",
    "y_p_t = []\n",
    "for i in range(len(y_preds_test)):\n",
    "    if y_preds_test[i] >= 0.5:\n",
    "         y_p_t.append(1)\n",
    "    else:\n",
    "        y_p_t.append(0)\n",
    "\n",
    "print(classification_report(y_test[:len(y_preds_test)],y_p_t))\n"
   ]
  },
  {
   "cell_type": "markdown",
   "metadata": {},
   "source": [
    "+ epoch = 100, 0.89/0.93/0.86\n",
    "+ epoch = 40, 0.9/0.95/0.85\n",
    "+ second branch만, epoch = 100, 0.57/0.60/0.58\n",
    "+ 기침소리 안자름, epoch=40, 0.57/0.52/0.64\n",
    "+ 기침소리 안자름, epoch=100, 0.6/0.58/0.64\n",
    "+ first branch만, epoch = 40 0.92/0.93/0.90\n",
    "\n",
    "+ 941, 2254 feature_set 30, epoch = 40 0.94/0.93/0.94  0.94/0.94/0.95\n",
    "+ 941, 2254 feature_set 36, epoch = 40 0.91/0.90/0.95  0.93/0.93/0.94\n",
    "+ 1041, 2480 feature_set 36, epoch = 40 0.94/0.93/0.94 0.91/0.90/0.95"
   ]
  },
  {
   "cell_type": "code",
   "execution_count": 46,
   "metadata": {},
   "outputs": [
    {
     "data": {
      "image/png": "[encoded data removed]",
      "text/plain": [
       "<Figure size 432x288 with 1 Axes>"
      ]
     },
     "metadata": {
      "needs_background": "light"
     },
     "output_type": "display_data"
    }
   ],
   "source": [
    "from sklearn.metrics import roc_curve\n",
    "from scipy import interp\n",
    "\n",
    "#y_preds_val[i]\n",
    "#y_preds_test[i]\n",
    "fpr, tpr, threshold = roc_curve(test_labels[:len(y_preds_test)], y_preds_test)\n",
    "#feature_set36_1024_2480_epoch40_fpr_tpr = [fpr,tpr]\n",
    "feature_mfcc13_mel_1024_2480_epoch40_fpr_tpr = [fpr, tpr]\n",
    "\n",
    "tprs = []\n",
    "base_fpr = np.linspace(0, 1, 101)\n",
    "\n",
    "plt.plot(feature_set36_1024_2480_epoch40_fpr_tpr[0], feature_set36_1024_2480_epoch40_fpr_tpr[1], 'r')\n",
    "plt.plot(feature_mfcc13_mel_1024_2480_epoch40_fpr_tpr[0], feature_mfcc13_mel_1024_2480_epoch40_fpr_tpr[1], 'b')\n",
    "\n",
    "plt.plot([0, 1], [0, 1], color='navy', linestyle='--')\n",
    "#tpr = interp(base_fpr, fpr, tpr)\n",
    "#tpr[0] = 0.0\n",
    "#tprs.append(tpr)\n",
    "plt.ylabel('True Positive Rate')\n",
    "plt.xlabel('False Positive Rate')\n",
    "plt.show()"
   ]
  },
  {
   "cell_type": "code",
   "execution_count": 47,
   "metadata": {},
   "outputs": [],
   "source": [
    "pickle.dump( feature_mfcc13_mel_1024_2480_epoch40_fpr_tpr, open( \"feature_mfcc13_mel_1024_2480_epoch40_fpr_tpr.pickle\", \"wb\" ) )"
   ]
  },
  {
   "cell_type": "code",
   "execution_count": 49,
   "metadata": {},
   "outputs": [],
   "source": [
    "import pickle\n",
    "\n",
    "feature_set36_1024_2480_epoch40_fpr_tpr = []\n",
    "\n",
    "with open('feature_set36_1024_2480_epoch40_fpr_tpr.pickle', 'rb') as f:\n",
    "    feature_set36_1024_2480_epoch40_fpr_tpr = pickle.load(f)\n",
    "    \n",
    "with open('feature_mfcc13_mel_1024_2480_epoch40_fpr_tpr.pickle', 'rb') as f:\n",
    "    feature_mfcc13_mel_1024_2480_epoch40_fpr_tpr = pickle.load(f)"
   ]
  },
  {
   "cell_type": "code",
   "execution_count": 50,
   "metadata": {},
   "outputs": [
    {
     "data": {
      "image/png": "[encoded data removed]",
      "text/plain": [
       "<Figure size 432x288 with 1 Axes>"
      ]
     },
     "metadata": {
      "needs_background": "light"
     },
     "output_type": "display_data"
    }
   ],
   "source": [
    "plt.plot(feature_set36_1024_2480_epoch40_fpr_tpr[0], feature_set36_1024_2480_epoch40_fpr_tpr[1], 'r', )\n",
    "plt.plot(feature_mfcc13_mel_1024_2480_epoch40_fpr_tpr[0], feature_mfcc13_mel_1024_2480_epoch40_fpr_tpr[1], 'b')\n",
    "\n",
    "plt.plot([0, 1], [0, 1], color='navy', linestyle='--')\n",
    "plt.ylabel('True Positive Rate')\n",
    "plt.xlabel('False Positive Rate')\n",
    "plt.show()"
   ]
  },
  {
   "cell_type": "markdown",
   "metadata": {
    "id": "9lC-LJeBdwoy"
   },
   "source": [
    "---\n",
    "# 4-Model Visualization\n",
    "---"
   ]
  },
  {
   "cell_type": "code",
   "execution_count": 27,
   "metadata": {
    "id": "QcGfTw8S2Hf0",
    "scrolled": true
   },
   "outputs": [
    {
     "name": "stdout",
     "output_type": "stream",
     "text": [
      "0\n",
      "Num_samples: 336\n",
      "acc:  0.5267857142857143\n",
      "1 160 0 175\n",
      "              precision    recall  f1-score   support\n",
      "\n",
      "           0       1.00      0.01      0.01       161\n",
      "           1       0.52      1.00      0.69       175\n",
      "\n",
      "    accuracy                           0.52       336\n",
      "   macro avg       0.76      0.50      0.35       336\n",
      "weighted avg       0.75      0.52      0.36       336\n",
      "\n"
     ]
    },
    {
     "name": "stderr",
     "output_type": "stream",
     "text": [
      "/home/pmp/anaconda3/envs/COVID/lib/python3.7/site-packages/ipykernel_launcher.py:50: DeprecationWarning: scipy.interp is deprecated and will be removed in SciPy 2.0.0, use numpy.interp instead\n"
     ]
    },
    {
     "data": {
      "image/png": "[encoded data removed]",
      "text/plain": [
       "<Figure size 432x288 with 1 Axes>"
      ]
     },
     "metadata": {
      "needs_background": "light"
     },
     "output_type": "display_data"
    },
    {
     "name": "stdout",
     "output_type": "stream",
     "text": [
      "1\n",
      "Num_samples: 336\n",
      "acc:  0.49702380952380953\n",
      "167 0 167 2\n",
      "              precision    recall  f1-score   support\n",
      "\n",
      "           0       0.50      1.00      0.67       167\n",
      "           1       1.00      0.01      0.02       169\n",
      "\n",
      "    accuracy                           0.50       336\n",
      "   macro avg       0.75      0.51      0.35       336\n",
      "weighted avg       0.75      0.50      0.34       336\n",
      "\n"
     ]
    },
    {
     "name": "stderr",
     "output_type": "stream",
     "text": [
      "/home/pmp/anaconda3/envs/COVID/lib/python3.7/site-packages/ipykernel_launcher.py:50: DeprecationWarning: scipy.interp is deprecated and will be removed in SciPy 2.0.0, use numpy.interp instead\n"
     ]
    },
    {
     "data": {
      "image/png": "[encoded data removed]",
      "text/plain": [
       "<Figure size 432x288 with 1 Axes>"
      ]
     },
     "metadata": {
      "needs_background": "light"
     },
     "output_type": "display_data"
    },
    {
     "name": "stdout",
     "output_type": "stream",
     "text": [
      "2\n",
      "Num_samples: 336\n",
      "acc:  0.5119047619047619\n",
      "16 155 3 162\n",
      "              precision    recall  f1-score   support\n",
      "\n",
      "           0       0.84      0.09      0.17       171\n",
      "           1       0.51      0.98      0.67       165\n",
      "\n",
      "    accuracy                           0.53       336\n",
      "   macro avg       0.68      0.54      0.42       336\n",
      "weighted avg       0.68      0.53      0.42       336\n",
      "\n"
     ]
    },
    {
     "name": "stderr",
     "output_type": "stream",
     "text": [
      "/home/pmp/anaconda3/envs/COVID/lib/python3.7/site-packages/ipykernel_launcher.py:50: DeprecationWarning: scipy.interp is deprecated and will be removed in SciPy 2.0.0, use numpy.interp instead\n"
     ]
    },
    {
     "data": {
      "image/png": "[encoded data removed]",
      "text/plain": [
       "<Figure size 432x288 with 1 Axes>"
      ]
     },
     "metadata": {
      "needs_background": "light"
     },
     "output_type": "display_data"
    },
    {
     "name": "stdout",
     "output_type": "stream",
     "text": [
      "3\n",
      "Num_samples: 336\n",
      "acc:  0.4523809523809524\n",
      "152 0 183 1\n",
      "              precision    recall  f1-score   support\n",
      "\n",
      "           0       0.45      1.00      0.62       152\n",
      "           1       1.00      0.01      0.01       184\n",
      "\n",
      "    accuracy                           0.46       336\n",
      "   macro avg       0.73      0.50      0.32       336\n",
      "weighted avg       0.75      0.46      0.29       336\n",
      "\n"
     ]
    },
    {
     "name": "stderr",
     "output_type": "stream",
     "text": [
      "/home/pmp/anaconda3/envs/COVID/lib/python3.7/site-packages/ipykernel_launcher.py:50: DeprecationWarning: scipy.interp is deprecated and will be removed in SciPy 2.0.0, use numpy.interp instead\n"
     ]
    },
    {
     "data": {
      "image/png": "[encoded data removed]",
      "text/plain": [
       "<Figure size 432x288 with 1 Axes>"
      ]
     },
     "metadata": {
      "needs_background": "light"
     },
     "output_type": "display_data"
    },
    {
     "name": "stdout",
     "output_type": "stream",
     "text": [
      "4\n",
      "Num_samples: 336\n",
      "acc:  0.5059523809523809\n",
      "170 0 166 0\n",
      "              precision    recall  f1-score   support\n",
      "\n",
      "           0       0.51      1.00      0.67       170\n",
      "           1       0.00      0.00      0.00       166\n",
      "\n",
      "    accuracy                           0.51       336\n",
      "   macro avg       0.25      0.50      0.34       336\n",
      "weighted avg       0.26      0.51      0.34       336\n",
      "\n"
     ]
    },
    {
     "name": "stderr",
     "output_type": "stream",
     "text": [
      "/home/pmp/anaconda3/envs/COVID/lib/python3.7/site-packages/sklearn/metrics/_classification.py:1248: UndefinedMetricWarning: Precision and F-score are ill-defined and being set to 0.0 in labels with no predicted samples. Use `zero_division` parameter to control this behavior.\n",
      "  _warn_prf(average, modifier, msg_start, len(result))\n",
      "/home/pmp/anaconda3/envs/COVID/lib/python3.7/site-packages/sklearn/metrics/_classification.py:1248: UndefinedMetricWarning: Precision and F-score are ill-defined and being set to 0.0 in labels with no predicted samples. Use `zero_division` parameter to control this behavior.\n",
      "  _warn_prf(average, modifier, msg_start, len(result))\n",
      "/home/pmp/anaconda3/envs/COVID/lib/python3.7/site-packages/sklearn/metrics/_classification.py:1248: UndefinedMetricWarning: Precision and F-score are ill-defined and being set to 0.0 in labels with no predicted samples. Use `zero_division` parameter to control this behavior.\n",
      "  _warn_prf(average, modifier, msg_start, len(result))\n",
      "/home/pmp/anaconda3/envs/COVID/lib/python3.7/site-packages/ipykernel_launcher.py:50: DeprecationWarning: scipy.interp is deprecated and will be removed in SciPy 2.0.0, use numpy.interp instead\n"
     ]
    },
    {
     "data": {
      "image/png": "[encoded data removed]",
      "text/plain": [
       "<Figure size 432x288 with 1 Axes>"
      ]
     },
     "metadata": {
      "needs_background": "light"
     },
     "output_type": "display_data"
    },
    {
     "data": {
      "image/png": "[encoded data removed]",
      "text/plain": [
       "<Figure size 432x288 with 1 Axes>"
      ]
     },
     "metadata": {
      "needs_background": "light"
     },
     "output_type": "display_data"
    },
    {
     "data": {
      "image/png": "[encoded data removed]",
      "text/plain": [
       "<Figure size 432x288 with 2 Axes>"
      ]
     },
     "metadata": {
      "needs_background": "light"
     },
     "output_type": "display_data"
    }
   ],
   "source": [
    "rt_sv_dir = '/home/pmp/Workspace/Myoungjin/CoughRecognition/virufy-covid-main/cough/model2/'\n",
    "# Calculate ROC curves for each run\n",
    "from sklearn.metrics import roc_curve\n",
    "from sklearn.metrics import confusion_matrix\n",
    "from sklearn.metrics import classification_report\n",
    "import matplotlib.pyplot as plt\n",
    "from scipy import interp\n",
    "import sklearn\n",
    "\n",
    "# EDIT MODEL PATHS TO USE\n",
    "models = {0: rt_sv_dir+'0/010--1.676--0.164.hdf5',\n",
    "          1: rt_sv_dir+'1/010--1.556--0.051.hdf5',\n",
    "          2: rt_sv_dir+'2/010--0.848--0.055.hdf5',\n",
    "          3: rt_sv_dir+'3/010--2.021--0.149.hdf5',\n",
    "          4: rt_sv_dir+'4/010--164.045--0.194.hdf5'\n",
    "          }\n",
    "\n",
    "tprs = []\n",
    "base_fpr = np.linspace(0, 1, 101)\n",
    "for iii in range(5):\n",
    "    print(iii)\n",
    "\n",
    "    test_features= DATA[iii]['MFCCS'][ int(0.7*len(data_x)): int(0.85*len(data_x))]\n",
    "    #test_extra   = DATA[iii]['EXTRA'][ int(0.7*len(data_x)): int(0.85*len(data_x))]\n",
    "    test_imgs    = DATA[iii]['MEL'][ int(0.7*len(data_x)): int(0.85*len(data_x))]\n",
    "    test_labels  = DATA[iii]['LABELS'][ int(0.7*len(data_x)): int(0.85*len(data_x))]\n",
    "    #TEST          = TripleInputGenerator(test_features,test_imgs,test_extra,test_labels,batch_size=48,target_size=(64,64))\n",
    "    TEST          = TripleInputGenerator(test_features,test_imgs,test_labels,batch_size=48,target_size=(224, 224))\n",
    "    \n",
    "    model = keras.models.load_model(models[iii])\n",
    "    y_score = model.predict(TEST)\n",
    "    fpr, tpr, _ = roc_curve(test_labels[:len(y_score)], y_score)\n",
    "  \n",
    "    print('Num_samples:', len(y_score))\n",
    "    print('acc: ', sklearn.metrics.accuracy_score(test_labels[:len(y_score)], y_score>0.5))\n",
    "    y_pred = [] \n",
    "    for i in range(len(y_score)):\n",
    "        if y_score[i] > 0.1:\n",
    "            y_pred.append(1)\n",
    "        else:\n",
    "            y_pred.append(0)\n",
    "  #print(y_pred)\n",
    "  \n",
    "    tn, fp, fn, tp = confusion_matrix(test_labels[:len(y_score)], y_pred).ravel()\n",
    "    print(tn,fp,fn,tp)\n",
    "    #print(\"accuracy : \",(tp+tn)/(tp+tn+fp+fn),\"sen: \",tp/(tp+fn), \"spe: \",tn/(fp+tn))\n",
    "    print(classification_report(test_labels[:len(y_score)],y_pred))\n",
    "\n",
    "    plt.plot(fpr, tpr, 'b', alpha=0.15)\n",
    "    tpr = interp(base_fpr, fpr, tpr)\n",
    "    tpr[0] = 0.0\n",
    "    tprs.append(tpr)\n",
    "    plt.show()\n",
    "    #print(tpr)\n",
    "    #print(fpr)\n",
    "##\n",
    "tprs = np.array(tprs)\n",
    "mean_tprs = tprs.mean(axis=0)\n",
    "std = tprs.std(axis=0)\n",
    "\n",
    "tprs_upper = np.minimum(mean_tprs + std, 1)\n",
    "tprs_lower = mean_tprs - std\n",
    "\n",
    "plt.plot(base_fpr,mean_tprs,'b')\n",
    "plt.fill_between(base_fpr, tprs_lower, tprs_upper, color='grey', alpha=0.3)\n",
    "plt.show()\n",
    "\n",
    "plt.plot([0, 1], [0, 1],'r--')\n",
    "plt.xlim([0, 1])\n",
    "plt.ylim([0, 1])\n",
    "plt.ylabel('True Positive Rate')\n",
    "plt.xlabel('False Positive Rate')\n",
    "plt.axes().set_aspect('equal', 'datalim')\n",
    "#plt.savefig('roc_curve.png')\n",
    "plt.show()"
   ]
  },
  {
   "cell_type": "code",
   "execution_count": null,
   "metadata": {},
   "outputs": [],
   "source": []
  }
 ],
 "metadata": {
  "colab": {
   "collapsed_sections": [],
   "name": "DNN_Dec20.ipynb",
   "provenance": []
  },
  "kernelspec": {
   "display_name": "COVID",
   "language": "python",
   "name": "covid"
  },
  "language_info": {
   "codemirror_mode": {
    "name": "ipython",
    "version": 3
   },
   "file_extension": ".py",
   "mimetype": "text/x-python",
   "name": "python",
   "nbconvert_exporter": "python",
   "pygments_lexer": "ipython3",
   "version": "3.7.7"
  }
 },
 "nbformat": 4,
 "nbformat_minor": 1
}

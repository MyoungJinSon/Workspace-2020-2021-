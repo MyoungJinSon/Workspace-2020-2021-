{
 "cells": [
  {
   "cell_type": "code",
   "execution_count": 5,
   "metadata": {},
   "outputs": [
    {
     "name": "stdout",
     "output_type": "stream",
     "text": [
      "hihell ihello\n",
      "(1, 6, 5)\n",
      "(1, 6, 5)\n",
      "Model: \"sequential_3\"\n",
      "_________________________________________________________________\n",
      "Layer (type)                 Output Shape              Param #   \n",
      "=================================================================\n",
      "lstm_3 (LSTM)                (None, 6, 5)              220       \n",
      "_________________________________________________________________\n",
      "time_distributed_3 (TimeDist (None, 6, 5)              30        \n",
      "_________________________________________________________________\n",
      "activation_3 (Activation)    (None, 6, 5)              0         \n",
      "=================================================================\n",
      "Total params: 250\n",
      "Trainable params: 250\n",
      "Non-trainable params: 0\n",
      "_________________________________________________________________\n",
      "Epoch 1/1\n",
      "1/1 [==============================] - 0s 179ms/step - loss: 1.6104 - accuracy: 0.5000\n",
      "[[0.20577633 0.20303729 0.18814479 0.18846147 0.21458007]\n",
      " [0.19222407 0.19876842 0.18972239 0.19369404 0.22559106]\n",
      " [0.20274873 0.20255873 0.18335216 0.18101017 0.23033026]\n",
      " [0.20865816 0.21210122 0.18328156 0.18247536 0.21348366]\n",
      " [0.21231094 0.20684768 0.19110711 0.18746953 0.20226474]\n",
      " [0.21390668 0.20254827 0.19800681 0.19355509 0.19198318]]\n",
      "[3 1 3 4 0 0] hihell\n",
      "[4 4 4 4 0 0] eeeell\n"
     ]
    }
   ],
   "source": [
    "import numpy as np\n",
    "from keras.models import Sequential\n",
    "from keras.layers import Dense, TimeDistributed, Activation, LSTM\n",
    "from keras.utils import np_utils\n",
    "\n",
    "import os\n",
    "\n",
    "#brew install graphviz\n",
    "#pip3 install graphviz\n",
    "#pip3 install pydot-ng\n",
    "from keras.utils.vis_utils import plot_model\n",
    "\n",
    "#sample text\n",
    "sample = \"hihello\"\n",
    "\n",
    "char_set = list(set(sample)) #id->char['i','l','e','o','h']\n",
    "char_dic = {w: i for i, w in enumerate(char_set)}\n",
    "\n",
    "x_str = sample[:-1]\n",
    "y_str = sample[1:]\n",
    "\n",
    "data_dim = len(char_set)\n",
    "timesteps = len(y_str)\n",
    "num_classes = len(char_set)\n",
    "\n",
    "print(x_str, y_str)\n",
    "\n",
    "x=[char_dic[c] for c in x_str]\n",
    "y=[char_dic[c] for c in y_str] #char to index\n",
    "\n",
    "#one-hot encoding\n",
    "x=np_utils.to_categorical(x,num_classes=num_classes)\n",
    "#reshape X to be [samples, time steps, features]\n",
    "x=np.reshape(x,(-1,len(y),data_dim))\n",
    "print(x.shape)\n",
    "\n",
    "#one-hot encoding\n",
    "y=np_utils.to_categorical(y, num_classes=num_classes)\n",
    "#time steps\n",
    "y=np.reshape(x,(-1,len(y),data_dim))\n",
    "print(y.shape)\n",
    "\n",
    "model = Sequential()\n",
    "model.add(LSTM(num_classes, input_shape=(\n",
    "    timesteps, data_dim), return_sequences= True))\n",
    "model.add(TimeDistributed(Dense(num_classes)))\n",
    "model.add(Activation('softmax'))\n",
    "model.summary()\n",
    "#Store model graph in png\n",
    "#(Error occurs on in python interactive shell)\n",
    "#plot_model(model, to_file=os.path.basename(__file__)+'.png', show_shapes=True)\n",
    "\n",
    "model.compile(loss='categorical_crossentropy', optimizer='rmsprop', metrics=['accuracy'])\n",
    "model.fit(x,y,epochs=1)\n",
    "\n",
    "predictions=model.predict(x,verbose=0)\n",
    "for i, prediction in enumerate(predictions):\n",
    "    print(prediction)\n",
    "    x_index=np.argmax(x[i],axis=1)\n",
    "    x_str = [char_set[j] for j in x_index]\n",
    "    print(x_index, ''.join(x_str))\n",
    "    \n",
    "    index=np.argmax(prediction, axis=1)\n",
    "    result=[char_set[j] for j in index]\n",
    "    print(index, ''.join(result))"
   ]
  },
  {
   "cell_type": "code",
   "execution_count": 6,
   "metadata": {},
   "outputs": [
    {
     "name": "stdout",
     "output_type": "stream",
     "text": [
      "['l', 'i', 'o', 'h', 'e']\n",
      "5\n",
      "['h', 'i', 'h', 'e', 'l', 'l']\n",
      "ihello\n"
     ]
    }
   ],
   "source": [
    "print(char_set)\n",
    "print(data_dim)\n",
    "print(x_str)\n",
    "print(y_str)"
   ]
  },
  {
   "cell_type": "code",
   "execution_count": null,
   "metadata": {},
   "outputs": [],
   "source": []
  }
 ],
 "metadata": {
  "kernelspec": {
   "display_name": "tensorflow",
   "language": "python",
   "name": "tensorflow"
  },
  "language_info": {
   "codemirror_mode": {
    "name": "ipython",
    "version": 3
   },
   "file_extension": ".py",
   "mimetype": "text/x-python",
   "name": "python",
   "nbconvert_exporter": "python",
   "pygments_lexer": "ipython3",
   "version": "3.6.10"
  }
 },
 "nbformat": 4,
 "nbformat_minor": 2
}

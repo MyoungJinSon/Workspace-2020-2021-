{
 "cells": [
  {
   "cell_type": "code",
   "execution_count": 1,
   "metadata": {},
   "outputs": [
    {
     "name": "stderr",
     "output_type": "stream",
     "text": [
      "Using TensorFlow backend.\n"
     ]
    }
   ],
   "source": [
    "import tensorflow\n",
    "import numpy as np\n",
    "from keras.models import Sequential\n",
    "from keras.layers import Dense, TimeDistributed, Activation, LSTM\n",
    "from keras.utils import np_utils\n",
    "\n",
    "import os\n",
    "\n",
    "#brew install graphviz\n",
    "#pip3 install graphviz\n",
    "#pip3 install pydot-ng\n",
    "from keras.utils.vis_utils import plot_model"
   ]
  },
  {
   "cell_type": "code",
   "execution_count": 2,
   "metadata": {},
   "outputs": [
    {
     "name": "stdout",
     "output_type": "stream",
     "text": [
      "hihell ihello\n",
      "(1, 6, 5)\n",
      "(1, 6, 5)\n",
      "WARNING:tensorflow:From /home/pmp/anaconda3/envs/tensorflow/lib/python3.6/site-packages/tensorflow_core/python/ops/resource_variable_ops.py:1630: calling BaseResourceVariable.__init__ (from tensorflow.python.ops.resource_variable_ops) with constraint is deprecated and will be removed in a future version.\n",
      "Instructions for updating:\n",
      "If using Keras pass *_constraint arguments to layers.\n",
      "Model: \"sequential_1\"\n",
      "_________________________________________________________________\n",
      "Layer (type)                 Output Shape              Param #   \n",
      "=================================================================\n",
      "lstm_1 (LSTM)                (None, 6, 5)              220       \n",
      "_________________________________________________________________\n",
      "time_distributed_1 (TimeDist (None, 6, 5)              30        \n",
      "_________________________________________________________________\n",
      "activation_1 (Activation)    (None, 6, 5)              0         \n",
      "=================================================================\n",
      "Total params: 250\n",
      "Trainable params: 250\n",
      "Non-trainable params: 0\n",
      "_________________________________________________________________\n",
      "WARNING:tensorflow:From /home/pmp/anaconda3/envs/tensorflow/lib/python3.6/site-packages/tensorflow_core/python/ops/math_grad.py:1424: where (from tensorflow.python.ops.array_ops) is deprecated and will be removed in a future version.\n",
      "Instructions for updating:\n",
      "Use tf.where in 2.0, which has the same broadcast rule as np.where\n",
      "WARNING:tensorflow:From /home/pmp/anaconda3/envs/tensorflow/lib/python3.6/site-packages/keras/backend/tensorflow_backend.py:422: The name tf.global_variables is deprecated. Please use tf.compat.v1.global_variables instead.\n",
      "\n",
      "Epoch 1/1\n",
      "1/1 [==============================] - 0s 305ms/step - loss: 1.5937 - accuracy: 0.3333\n",
      "[[0.20772609 0.19634993 0.18929741 0.20582856 0.20079802]\n",
      " [0.20804448 0.19540872 0.19913019 0.2088324  0.18858418]\n",
      " [0.21031615 0.19368294 0.18968382 0.21218964 0.19412743]\n",
      " [0.18562943 0.21729696 0.18310122 0.2063327  0.20763968]\n",
      " [0.1845216  0.21619615 0.17738017 0.22672747 0.19517457]\n",
      " [0.18031077 0.21883525 0.17385823 0.23984396 0.18715176]]\n"
     ]
    },
    {
     "ename": "NameError",
     "evalue": "name 'index' is not defined",
     "output_type": "error",
     "traceback": [
      "\u001b[0;31m---------------------------------------------------------------------------\u001b[0m",
      "\u001b[0;31mNameError\u001b[0m                                 Traceback (most recent call last)",
      "\u001b[0;32m<ipython-input-2-13d15de436e5>\u001b[0m in \u001b[0;36m<module>\u001b[0;34m\u001b[0m\n\u001b[1;32m     50\u001b[0m     \u001b[0mprint\u001b[0m\u001b[0;34m(\u001b[0m\u001b[0mprediction\u001b[0m\u001b[0;34m)\u001b[0m\u001b[0;34m\u001b[0m\u001b[0;34m\u001b[0m\u001b[0m\n\u001b[1;32m     51\u001b[0m     \u001b[0mx_index\u001b[0m \u001b[0;34m=\u001b[0m \u001b[0mnp\u001b[0m\u001b[0;34m.\u001b[0m\u001b[0margmax\u001b[0m\u001b[0;34m(\u001b[0m\u001b[0mx\u001b[0m\u001b[0;34m[\u001b[0m\u001b[0mi\u001b[0m\u001b[0;34m]\u001b[0m\u001b[0;34m,\u001b[0m \u001b[0maxis\u001b[0m \u001b[0;34m=\u001b[0m\u001b[0;36m1\u001b[0m\u001b[0;34m)\u001b[0m\u001b[0;34m\u001b[0m\u001b[0;34m\u001b[0m\u001b[0m\n\u001b[0;32m---> 52\u001b[0;31m     \u001b[0mresult\u001b[0m \u001b[0;34m=\u001b[0m \u001b[0;34m[\u001b[0m\u001b[0mchar_set\u001b[0m\u001b[0;34m[\u001b[0m\u001b[0mj\u001b[0m\u001b[0;34m]\u001b[0m \u001b[0;32mfor\u001b[0m \u001b[0mj\u001b[0m \u001b[0;32min\u001b[0m \u001b[0mindex\u001b[0m\u001b[0;34m]\u001b[0m\u001b[0;34m\u001b[0m\u001b[0;34m\u001b[0m\u001b[0m\n\u001b[0m\u001b[1;32m     53\u001b[0m     \u001b[0mprint\u001b[0m\u001b[0;34m(\u001b[0m\u001b[0mx_index\u001b[0m\u001b[0;34m,\u001b[0m \u001b[0;34m''\u001b[0m\u001b[0;34m.\u001b[0m\u001b[0mjoin\u001b[0m\u001b[0;34m(\u001b[0m\u001b[0mx_str\u001b[0m\u001b[0;34m)\u001b[0m\u001b[0;34m)\u001b[0m\u001b[0;34m\u001b[0m\u001b[0;34m\u001b[0m\u001b[0m\n\u001b[1;32m     54\u001b[0m \u001b[0;34m\u001b[0m\u001b[0m\n",
      "\u001b[0;31mNameError\u001b[0m: name 'index' is not defined"
     ]
    }
   ],
   "source": [
    "#hihello 입력하고 다음에 나오는 글자 예측하기\n",
    "#sample text\n",
    "sample = \"hihello\"\n",
    "\n",
    "char_set = list(set(sample)) #id -> char ['l','i','e','o','h']\n",
    "char_dic = {w: i for i, w in enumerate(char_set)}\n",
    "\n",
    "x_str = sample[:-1]\n",
    "y_str = sample[1:]\n",
    "\n",
    "data_dim = len(char_set)\n",
    "timesteps = len(y_str)\n",
    "num_classes = len(char_set)\n",
    "\n",
    "print(x_str, y_str)\n",
    "\n",
    "x = [char_dic[c] for c in x_str] #char to index\n",
    "y = [char_dic[c] for c in y_str] #char to index\n",
    "\n",
    "\n",
    "#one-hot encoding\n",
    "x = np_utils.to_categorical(x, num_classes=num_classes)\n",
    "\n",
    "#reshape X to be[samples, time steos, features]\n",
    "x = np.reshape(x, (-1, len(x), data_dim))\n",
    "print(x.shape)\n",
    "\n",
    "#one-hot encoding\n",
    "y = np_utils.to_categorical(y,num_classes=num_classes)\n",
    "\n",
    "#timesteps\n",
    "y = np.reshape(y,(-1,len(y), data_dim))\n",
    "print(y.shape)\n",
    "\n",
    "model = Sequential()\n",
    "model.add(LSTM(num_classes, input_shape=(timesteps, data_dim), return_sequences=True))\n",
    "model.add(TimeDistributed(Dense(num_classes)))\n",
    "model.add(Activation('softmax'))\n",
    "model.summary()\n",
    "\n",
    "#Stroe model graph in png\n",
    "# (Error occurs on in python interactive shell)\n",
    "# plot_model(model, to_file=os.path.basename(__file__)+ '.png', show_shapes=True)\n",
    "\n",
    "model.compile(loss='categorical_crossentropy', optimizer='rmsprop', metrics=['accuracy'])\n",
    "model.fit(x, y, epochs=1)\n",
    "\n",
    "predictions = model.predict(x, verbose=0)\n",
    "for i, prediction in enumerate(predictions):\n",
    "    print(prediction)\n",
    "    x_index = np.argmax(x[i], axis =1)\n",
    "    result = [char_set[j] for j in index]\n",
    "    print(x_index, ''.join(x_str))\n",
    "    \n",
    "    index = np.argmax(prediction, axis=1)\n",
    "    result = [char_set[j] for j in index]\n",
    "    print(index, ''.join(result))"
   ]
  },
  {
   "cell_type": "code",
   "execution_count": null,
   "metadata": {},
   "outputs": [],
   "source": [
    "print(char_set)\n",
    "print(data_dim)\n",
    "print(x_str)\n",
    "print(y_str)"
   ]
  }
 ],
 "metadata": {
  "kernelspec": {
   "display_name": "tensorflow",
   "language": "python",
   "name": "tensorflow"
  },
  "language_info": {
   "codemirror_mode": {
    "name": "ipython",
    "version": 3
   },
   "file_extension": ".py",
   "mimetype": "text/x-python",
   "name": "python",
   "nbconvert_exporter": "python",
   "pygments_lexer": "ipython3",
   "version": "3.6.10"
  }
 },
 "nbformat": 4,
 "nbformat_minor": 2
}

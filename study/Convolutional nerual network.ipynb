{
 "cells": [
  {
   "cell_type": "code",
   "execution_count": 1,
   "metadata": {},
   "outputs": [],
   "source": [
    "import tensorflow as tf #CIFAR-10 convlayer!!"
   ]
  },
  {
   "cell_type": "code",
   "execution_count": 2,
   "metadata": {},
   "outputs": [
    {
     "name": "stdout",
     "output_type": "stream",
     "text": [
      "WARNING:tensorflow:From <ipython-input-2-309a659e563f>:2: read_data_sets (from tensorflow.contrib.learn.python.learn.datasets.mnist) is deprecated and will be removed in a future version.\n",
      "Instructions for updating:\n",
      "Please use alternatives such as official/mnist/dataset.py from tensorflow/models.\n",
      "WARNING:tensorflow:From /home/pmp/anaconda3/envs/tensorflow/lib/python3.6/site-packages/tensorflow/contrib/learn/python/learn/datasets/mnist.py:260: maybe_download (from tensorflow.contrib.learn.python.learn.datasets.base) is deprecated and will be removed in a future version.\n",
      "Instructions for updating:\n",
      "Please write your own downloading logic.\n",
      "WARNING:tensorflow:From /home/pmp/anaconda3/envs/tensorflow/lib/python3.6/site-packages/tensorflow/contrib/learn/python/learn/datasets/mnist.py:262: extract_images (from tensorflow.contrib.learn.python.learn.datasets.mnist) is deprecated and will be removed in a future version.\n",
      "Instructions for updating:\n",
      "Please use tf.data to implement this functionality.\n",
      "Extracting MNIST_data/train-images-idx3-ubyte.gz\n",
      "WARNING:tensorflow:From /home/pmp/anaconda3/envs/tensorflow/lib/python3.6/site-packages/tensorflow/contrib/learn/python/learn/datasets/mnist.py:267: extract_labels (from tensorflow.contrib.learn.python.learn.datasets.mnist) is deprecated and will be removed in a future version.\n",
      "Instructions for updating:\n",
      "Please use tf.data to implement this functionality.\n",
      "Extracting MNIST_data/train-labels-idx1-ubyte.gz\n",
      "WARNING:tensorflow:From /home/pmp/anaconda3/envs/tensorflow/lib/python3.6/site-packages/tensorflow/contrib/learn/python/learn/datasets/mnist.py:110: dense_to_one_hot (from tensorflow.contrib.learn.python.learn.datasets.mnist) is deprecated and will be removed in a future version.\n",
      "Instructions for updating:\n",
      "Please use tf.one_hot on tensors.\n",
      "Extracting MNIST_data/t10k-images-idx3-ubyte.gz\n",
      "Extracting MNIST_data/t10k-labels-idx1-ubyte.gz\n",
      "WARNING:tensorflow:From /home/pmp/anaconda3/envs/tensorflow/lib/python3.6/site-packages/tensorflow/contrib/learn/python/learn/datasets/mnist.py:290: DataSet.__init__ (from tensorflow.contrib.learn.python.learn.datasets.mnist) is deprecated and will be removed in a future version.\n",
      "Instructions for updating:\n",
      "Please use alternatives such as official/mnist/dataset.py from tensorflow/models.\n"
     ]
    }
   ],
   "source": [
    "from tensorflow.examples.tutorials.mnist import input_data\n",
    "mnist = input_data.read_data_sets('MNIST_data', one_hot = True)"
   ]
  },
  {
   "cell_type": "code",
   "execution_count": 3,
   "metadata": {},
   "outputs": [],
   "source": [
    "x = tf.placeholder(tf.float32, shape=[None, 784])\n",
    "y_ = tf.placeholder(tf.float32, shape=[None, 10])\n",
    "\n",
    "x_image = tf.reshape(x, shape=[-1,28,28,1]) #image shape /color=>[-1,28,28,3] /-1==None\n",
    "\n",
    "#convolution layer1\n",
    "#output num==filter num\n",
    "w1 = tf.Variable(tf.random_normal([5,5,1,32], stddev = 0.1))#5,5,32 my set\n",
    "b1 = tf.Variable(tf.random_normal([32], stddev = 0.1))\n",
    "\n",
    "conv_layer1 = tf.nn.relu(tf.nn.conv2d(x_image, w1, strides=[1,1,1,1], padding = 'SAME')+b1) #2steps str=[1,2,2,1] ##padding??\n",
    "#28,28,32,1\n",
    "\n",
    "#pooling layer 1 (14,14,32)\n",
    "pool_layer1 = tf.nn.max_pool(conv_layer1, ksize=[1,2,2,1], strides = [1,2,2,1],padding = 'SAME')\n",
    "\n",
    "#convolution layer2\n",
    "w2 = tf.Variable(tf.random_normal([5,5,32,64], stddev=0.1)) #64 my set\n",
    "b2 = tf.Variable(tf.random_normal([64], stddev = 0.1))\n",
    "\n",
    "conv_layer2 = tf.nn.relu(tf.nn.conv2d(pool_layer1, w2, strides=[1,1,1,1], padding='SAME')+b2)\n",
    "\n",
    "pool_layer2 = tf.nn.max_pool(conv_layer2,ksize=[1,2,2,1], strides = [1,2,2,1],padding = 'SAME')\n",
    "#7,7,64\n",
    "\n",
    "#Fully connected layer\n",
    "w3 = tf.Variable(tf.random_normal([7*7*64, 1024], stddev = 0.1))\n",
    "b3 = tf.Variable(tf.random_normal([1024], stddev = 0.1))\n",
    "\n",
    "flat = tf.reshape(pool_layer2,[-1,7*7*64])\n",
    "\n",
    "fc_layer1 = tf.nn.relu(tf.matmul(flat,w3)+b3)\n",
    "\n",
    "#Fully connected layer 2\n",
    "w4 = tf.Variable(tf.random_normal([1024, 10], stddev = 0.1))\n",
    "b4 = tf.Variable(tf.random_normal([10], stddev = 0.1))\n",
    "\n",
    "fc_layer2 = tf.matmul(fc_layer1,w4)+b4\n",
    "\n",
    "y_conv = tf.nn.softmax(fc_layer2) #\n"
   ]
  },
  {
   "cell_type": "code",
   "execution_count": 5,
   "metadata": {},
   "outputs": [],
   "source": [
    "loss = tf.nn.softmax_cross_entropy_with_logits_v2(labels = y_, logits=fc_layer2)"
   ]
  },
  {
   "cell_type": "code",
   "execution_count": 6,
   "metadata": {},
   "outputs": [],
   "source": [
    "train = tf.train.AdamOptimizer(learning_rate = 0.001).minimize(loss)"
   ]
  },
  {
   "cell_type": "code",
   "execution_count": 7,
   "metadata": {},
   "outputs": [],
   "source": [
    "correct_prediction = tf.equal(tf.argmax(y_conv, 1), tf.argmax(y_,1))\n",
    "accuracy = tf.reduce_mean(tf.cast(correct_prediction, tf.float32))"
   ]
  },
  {
   "cell_type": "code",
   "execution_count": 9,
   "metadata": {},
   "outputs": [
    {
     "name": "stdout",
     "output_type": "stream",
     "text": [
      "step 0, training accuracy 0.2\n",
      "step 100, training accuracy 0.92\n",
      "step 200, training accuracy 0.98\n",
      "step 300, training accuracy 1\n",
      "step 400, training accuracy 0.98\n",
      "step 500, training accuracy 0.98\n",
      "step 600, training accuracy 0.98\n",
      "step 700, training accuracy 0.96\n",
      "step 800, training accuracy 1\n",
      "step 900, training accuracy 1\n",
      "step 1000, training accuracy 0.96\n",
      "step 1100, training accuracy 1\n",
      "step 1200, training accuracy 0.98\n",
      "step 1300, training accuracy 1\n",
      "step 1400, training accuracy 0.98\n",
      "step 1500, training accuracy 0.98\n",
      "step 1600, training accuracy 1\n",
      "step 1700, training accuracy 1\n",
      "step 1800, training accuracy 0.98\n",
      "step 1900, training accuracy 1\n"
     ]
    }
   ],
   "source": [
    "x_test=mnist.test.images\n",
    "y_test=mnist.test.labels\n",
    "\n",
    "\n",
    "\n",
    "with tf.Session() as sess:\n",
    "    sess.run(tf.global_variables_initializer())\n",
    "    for i in range(2000):\n",
    "            batch=mnist.train.next_batch(50) #50 among the training data\n",
    "            sess.run(train,feed_dict={x:batch[0], y_:batch[1]})\n",
    "            \n",
    "            if i% 100 ==0:\n",
    "                train_accuracy = sess.run(accuracy, feed_dict={x:batch[0], y_:batch[1]})\n",
    "                print(\"step %d, training accuracy %g\"%(i, train_accuracy))\n",
    "                \n",
    "    sess.run(accuracy, feed_dict={x:x_test, y_:y_test})"
   ]
  },
  {
   "cell_type": "code",
   "execution_count": null,
   "metadata": {},
   "outputs": [],
   "source": []
  },
  {
   "cell_type": "code",
   "execution_count": null,
   "metadata": {},
   "outputs": [],
   "source": []
  }
 ],
 "metadata": {
  "kernelspec": {
   "display_name": "Python 3",
   "language": "python",
   "name": "python3"
  },
  "language_info": {
   "codemirror_mode": {
    "name": "ipython",
    "version": 3
   },
   "file_extension": ".py",
   "mimetype": "text/x-python",
   "name": "python",
   "nbconvert_exporter": "python",
   "pygments_lexer": "ipython3",
   "version": "3.7.0"
  }
 },
 "nbformat": 4,
 "nbformat_minor": 2
}

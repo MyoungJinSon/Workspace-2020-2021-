{
 "cells": [
  {
   "cell_type": "code",
   "execution_count": 62,
   "metadata": {},
   "outputs": [],
   "source": [
    "import numpy as np\n",
    "from keras.models import Sequential\n",
    "from keras.layers import Dense, TimeDistributed, Activation, LSTM\n",
    "from keras.utils import np_utils\n",
    "\n",
    "import os\n",
    "\n",
    "#brew install graphviz\n",
    "#pip3 install graphviz\n",
    "#pip3 install pydot-ng\n",
    "from keras.utils.vis_utils import plot_model\n",
    "\n",
    "#sample text\n",
    "sample = \"hihello\""
   ]
  },
  {
   "cell_type": "code",
   "execution_count": 63,
   "metadata": {},
   "outputs": [],
   "source": [
    "char_set = list(set(sample)) #중복제거\n",
    "char_dic = {w: i for i, w in enumerate(char_set)} #index붙여 dic으로\n"
   ]
  },
  {
   "cell_type": "code",
   "execution_count": 64,
   "metadata": {},
   "outputs": [
    {
     "name": "stdout",
     "output_type": "stream",
     "text": [
      "hihell\n",
      "ihello\n",
      "5\n",
      "[0, 1, 0, 4, 3, 3]\n",
      "[1, 0, 4, 3, 3, 2]\n"
     ]
    }
   ],
   "source": [
    "#test data??\n",
    "x_str = sample[:-1]\n",
    "y_str = sample[1:]\n",
    "print(x_str)\n",
    "print(y_str)\n",
    "\n",
    "data_dim = len(char_set)\n",
    "timesteps = len(y_str)\n",
    "num_classes = len(char_set)\n",
    "\n",
    "x=[char_dic[c] for c in x_str]\n",
    "y=[char_dic[c] for c in y_str] # char to index\n",
    "print(len(char_set))\n",
    "print(x)\n",
    "print(y)"
   ]
  },
  {
   "cell_type": "code",
   "execution_count": 65,
   "metadata": {},
   "outputs": [
    {
     "name": "stdout",
     "output_type": "stream",
     "text": [
      "[[1. 0. 0. 0. 0.]\n",
      " [0. 1. 0. 0. 0.]\n",
      " [1. 0. 0. 0. 0.]\n",
      " [0. 0. 0. 0. 1.]\n",
      " [0. 0. 0. 1. 0.]\n",
      " [0. 0. 0. 1. 0.]]\n",
      "(1, 6, 5)\n",
      "[[[1. 0. 0. 0. 0.]\n",
      "  [0. 1. 0. 0. 0.]\n",
      "  [1. 0. 0. 0. 0.]\n",
      "  [0. 0. 0. 0. 1.]\n",
      "  [0. 0. 0. 1. 0.]\n",
      "  [0. 0. 0. 1. 0.]]]\n",
      "(1, 6, 5)\n"
     ]
    }
   ],
   "source": [
    "#one-hot encoding\n",
    "x=np_utils.to_categorical(x,num_classes=num_classes) # 0 1 0 4 3 3 자리\n",
    "print(x)\n",
    "#reshape X to be [samples, time steps, features]\n",
    "x=np.reshape(x,(-1, len(y),data_dim))\n",
    "print(x.shape)\n",
    "print(x)\n",
    "#one-hot encoding\n",
    "y=np_utils.to_categorical(y, num_classes=num_classes)\n",
    "#print(y)\n",
    "#time steps\n",
    "y=np.reshape(x,(-1,len(y),data_dim))\n",
    "print(y.shape)\n",
    "\n"
   ]
  },
  {
   "cell_type": "code",
   "execution_count": 68,
   "metadata": {},
   "outputs": [
    {
     "name": "stdout",
     "output_type": "stream",
     "text": [
      "Model: \"sequential_6\"\n",
      "_________________________________________________________________\n",
      "Layer (type)                 Output Shape              Param #   \n",
      "=================================================================\n",
      "lstm_3 (LSTM)                (None, 6, 5)              220       \n",
      "_________________________________________________________________\n",
      "time_distributed_3 (TimeDist (None, 6, 5)              30        \n",
      "_________________________________________________________________\n",
      "activation_3 (Activation)    (None, 6, 5)              0         \n",
      "=================================================================\n",
      "Total params: 250\n",
      "Trainable params: 250\n",
      "Non-trainable params: 0\n",
      "_________________________________________________________________\n",
      "Epoch 1/1\n",
      "1/1 [==============================] - 0s 473ms/step - loss: 1.4759 - accuracy: 0.6667\n"
     ]
    },
    {
     "data": {
      "text/plain": [
       "<keras.callbacks.callbacks.History at 0x7fbcf5792d30>"
      ]
     },
     "execution_count": 68,
     "metadata": {},
     "output_type": "execute_result"
    }
   ],
   "source": [
    "model = Sequential()\n",
    "model.add(LSTM(num_classes, input_shape=(timesteps, data_dim), return_sequences= True))\n",
    "model.add(TimeDistributed(Dense(num_classes)))\n",
    "model.add(Activation('softmax'))\n",
    "model.summary()\n",
    "#Store model graph in png\n",
    "#(Error occurs on in python interactive shell)\n",
    "#plot_model(model, to_file=os.path.basename(__file__)+'.png', show_shapes=True)\n",
    "\n",
    "model.compile(loss='categorical_crossentropy',optimizer='rmsprop', metrics=['accuracy'])\n",
    "model.fit(x,y,epochs=1)"
   ]
  },
  {
   "cell_type": "code",
   "execution_count": null,
   "metadata": {},
   "outputs": [],
   "source": []
  }
 ],
 "metadata": {
  "kernelspec": {
   "display_name": "tensorflow",
   "language": "python",
   "name": "tensorflow"
  },
  "language_info": {
   "codemirror_mode": {
    "name": "ipython",
    "version": 3
   },
   "file_extension": ".py",
   "mimetype": "text/x-python",
   "name": "python",
   "nbconvert_exporter": "python",
   "pygments_lexer": "ipython3",
   "version": "3.6.10"
  }
 },
 "nbformat": 4,
 "nbformat_minor": 2
}

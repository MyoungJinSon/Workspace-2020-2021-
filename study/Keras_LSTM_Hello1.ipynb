{
 "cells": [
  {
   "cell_type": "code",
   "execution_count": 2,
   "metadata": {},
   "outputs": [
    {
     "ename": "ModuleNotFoundError",
     "evalue": "No module named 'keras'",
     "output_type": "error",
     "traceback": [
      "\u001b[0;31m---------------------------------------------------------------------------\u001b[0m",
      "\u001b[0;31mModuleNotFoundError\u001b[0m                       Traceback (most recent call last)",
      "\u001b[0;32m<ipython-input-2-50e7abbd3b5d>\u001b[0m in \u001b[0;36m<module>\u001b[0;34m()\u001b[0m\n\u001b[1;32m      1\u001b[0m \u001b[0;32mimport\u001b[0m \u001b[0mnumpy\u001b[0m \u001b[0;32mas\u001b[0m \u001b[0mnp\u001b[0m\u001b[0;34m\u001b[0m\u001b[0m\n\u001b[0;32m----> 2\u001b[0;31m \u001b[0;32mfrom\u001b[0m \u001b[0mkeras\u001b[0m\u001b[0;34m.\u001b[0m\u001b[0mmodels\u001b[0m \u001b[0;32mimport\u001b[0m \u001b[0mSequential\u001b[0m\u001b[0;34m\u001b[0m\u001b[0m\n\u001b[0m\u001b[1;32m      3\u001b[0m \u001b[0;32mfrom\u001b[0m \u001b[0mkeras\u001b[0m\u001b[0;34m.\u001b[0m\u001b[0mlayers\u001b[0m \u001b[0;32mimport\u001b[0m \u001b[0mDense\u001b[0m\u001b[0;34m,\u001b[0m \u001b[0mTimeDistributed\u001b[0m\u001b[0;34m,\u001b[0m \u001b[0mActivation\u001b[0m\u001b[0;34m,\u001b[0m \u001b[0mLSTM\u001b[0m\u001b[0;34m\u001b[0m\u001b[0m\n\u001b[1;32m      4\u001b[0m \u001b[0;32mfrom\u001b[0m \u001b[0mkeras\u001b[0m\u001b[0;34m.\u001b[0m\u001b[0mutils\u001b[0m \u001b[0;32mimport\u001b[0m \u001b[0mnp_utils\u001b[0m\u001b[0;34m\u001b[0m\u001b[0m\n\u001b[1;32m      5\u001b[0m \u001b[0;34m\u001b[0m\u001b[0m\n",
      "\u001b[0;31mModuleNotFoundError\u001b[0m: No module named 'keras'"
     ]
    }
   ],
   "source": [
    "import numpy as np\n",
    "from keras.models import Sequential\n",
    "from keras.layers import Dense, TimeDistributed, Activation, LSTM\n",
    "from keras.utils import np_utils\n",
    "\n",
    "import os\n",
    "\n",
    "#brew install graphviz\n",
    "#pip3 install graphviz\n",
    "#pip3 install pydot-ng\n",
    "from keras.utils.vis_utils import plot_model\n",
    "\n",
    "#sample text\n",
    "sample = \"hihello\"\n",
    "\n",
    "char_set = list(set(sample)) #id->char['i','l','e','o','h']\n",
    "char_dic = {w: i for i, w in enumerate(char_set)}\n",
    "\n",
    "x_str = sample[:-1]\n",
    "y_str = sample[1:]\n",
    "\n",
    "data_dim = len(char_set)\n",
    "timesteps = len(y_str)\n",
    "num_classes = len(char_set)\n",
    "\n",
    "print(x_str, y_str)\n",
    "\n",
    "x=[char_dic[c] for c in x_str]\n",
    "y=[char_dic[c] for c in y_str] #char to index\n",
    "\n",
    "#one-hot encoding\n",
    "x=np_utils.to_categorical(x,num_classes=num_classes)\n",
    "#reshape X to be [samples, time steps, features]\n",
    "x=np.reshape(x,(-1,len(y),data_dim))\n",
    "print(x.shape)\n",
    "\n",
    "#one-hot encoding\n",
    "y=np_utils.to_categorical(y, num_classes=num_classes)\n",
    "#time steps\n",
    "y=np.reshape(x,(-1,len(y),data_dim))\n",
    "print(y.shape)\n",
    "\n",
    "model = Sequential()\n",
    "model.add(LSTM(num_classes, input_shape=(\n",
    "    timesteps, data_dim), return_sequences= True))\n",
    "model.add(TimeDistributed(Dense(num_classes)))\n",
    "model.add(Activation('softmax'))\n",
    "model.summary()\n",
    "#Store model graph in png\n",
    "#(Error occurs on in python interactive shell)\n",
    "#plot_model(model, to_file=os.path.basename(__file__)+'.png', show_shapes=True)\n",
    "\n",
    "model.compile(loss='categorical_crossentropy', optimizer='rmsprop', metrics=['accuracy'])\n",
    "model.fit(x,y,epochs=1)\n",
    "\n",
    "predictions=model.predict(x,verbose=0)\n",
    "for i, prediction in enumerate(predictions):\n",
    "    print(prediction)\n",
    "    x_index=np.argmax(x[i],axis=1)\n",
    "    x_str = [char_set[j] for j in x_index]\n",
    "    print(x_index, ''.join(x_str))\n",
    "    \n",
    "    index=np.argmax(prediction, axis=1)\n",
    "    result=[char_set[j] for j in index]\n",
    "    print(index, ''.join(result))"
   ]
  },
  {
   "cell_type": "code",
   "execution_count": 3,
   "metadata": {},
   "outputs": [
    {
     "ename": "NameError",
     "evalue": "name 'char_set' is not defined",
     "output_type": "error",
     "traceback": [
      "\u001b[0;31m---------------------------------------------------------------------------\u001b[0m",
      "\u001b[0;31mNameError\u001b[0m                                 Traceback (most recent call last)",
      "\u001b[0;32m<ipython-input-3-a83ca873435e>\u001b[0m in \u001b[0;36m<module>\u001b[0;34m()\u001b[0m\n\u001b[0;32m----> 1\u001b[0;31m \u001b[0mprint\u001b[0m\u001b[0;34m(\u001b[0m\u001b[0mchar_set\u001b[0m\u001b[0;34m)\u001b[0m\u001b[0;34m\u001b[0m\u001b[0m\n\u001b[0m\u001b[1;32m      2\u001b[0m \u001b[0mprint\u001b[0m\u001b[0;34m(\u001b[0m\u001b[0mdata_dim\u001b[0m\u001b[0;34m)\u001b[0m\u001b[0;34m\u001b[0m\u001b[0m\n\u001b[1;32m      3\u001b[0m \u001b[0mprint\u001b[0m\u001b[0;34m(\u001b[0m\u001b[0mx_str\u001b[0m\u001b[0;34m)\u001b[0m\u001b[0;34m\u001b[0m\u001b[0m\n\u001b[1;32m      4\u001b[0m \u001b[0mprint\u001b[0m\u001b[0;34m(\u001b[0m\u001b[0my_str\u001b[0m\u001b[0;34m)\u001b[0m\u001b[0;34m\u001b[0m\u001b[0m\n",
      "\u001b[0;31mNameError\u001b[0m: name 'char_set' is not defined"
     ]
    }
   ],
   "source": [
    "print(char_set)\n",
    "print(data_dim)\n",
    "print(x_str)\n",
    "print(y_str)"
   ]
  },
  {
   "cell_type": "code",
   "execution_count": null,
   "metadata": {},
   "outputs": [],
   "source": []
  }
 ],
 "metadata": {
  "kernelspec": {
   "display_name": "Python 3",
   "language": "python",
   "name": "python3"
  },
  "language_info": {
   "codemirror_mode": {
    "name": "ipython",
    "version": 3
   },
   "file_extension": ".py",
   "mimetype": "text/x-python",
   "name": "python",
   "nbconvert_exporter": "python",
   "pygments_lexer": "ipython3",
   "version": "3.7.0"
  }
 },
 "nbformat": 4,
 "nbformat_minor": 2
}

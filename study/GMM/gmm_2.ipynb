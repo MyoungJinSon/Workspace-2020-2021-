{
 "cells": [
  {
   "cell_type": "code",
   "execution_count": 22,
   "metadata": {},
   "outputs": [],
   "source": [
    "# samples X ,N=100, K 2개e\n",
    "# ( mj, sj), j=1 or 2, pi\n",
    "import numpy as np\n",
    "import matplotlib.pyplot as plt"
   ]
  },
  {
   "cell_type": "code",
   "execution_count": 23,
   "metadata": {},
   "outputs": [],
   "source": [
    "def gauss_function(x, mean, var): #likelihood\n",
    "    return 1/np.sqrt(2*np.pi*var) * np.exp(-1.0/2.0*var*((x-mean)**2))\n",
    "\n",
    "def sum1toN (i,N):\n",
    "    tmp=0\n",
    "    for i in range(N+1):\n",
    "        tmp+=i\n",
    "    return tmp"
   ]
  },
  {
   "cell_type": "code",
   "execution_count": 24,
   "metadata": {},
   "outputs": [
    {
     "name": "stdout",
     "output_type": "stream",
     "text": [
      "[-0.4463452  -0.44837779 -0.53076478 -0.57358322 -0.47034755 -0.50309232\n",
      " -0.48169622 -0.55005373 -0.41275075 -0.4171594  -0.60171975 -0.57581301\n",
      " -0.49648533 -0.43993356 -0.40638273 -0.53055809 -0.76703099 -0.51996966\n",
      " -0.50098467 -0.4022368   0.84922441  1.26453791  1.12797886  1.04023474\n",
      "  1.47424676  1.78736876  1.58933772  1.41917523  0.89186908  1.40864017\n",
      "  1.18077912  1.44733152  1.35908008  1.08031429  1.75492745  1.56746514\n",
      "  1.29259177  1.2598529   1.61874645  1.56623911  1.68909461  1.37365364\n",
      "  1.20379178  1.41963171  0.95940995  1.4420674   1.27239306  1.70012241\n",
      "  1.80394868  1.72526539]\n",
      "[0, 0, 0, 0, 0, 0, 0, 0, 0, 0, 0, 0, 0, 0, 0, 0, 0, 0, 0, 0, 0, 0, 0, 0, 0, 0, 0, 0, 0, 0, 0, 0, 0, 0, 0, 0, 0, 0, 0, 0, 0, 0, 0, 0, 0, 0, 0, 0, 0, 0]\n"
     ]
    },
    {
     "data": {
      "image/png": "[encoded data removed]",
      "text/plain": [
       "<Figure size 432x288 with 1 Axes>"
      ]
     },
     "metadata": {
      "needs_background": "light"
     },
     "output_type": "display_data"
    }
   ],
   "source": [
    "# 2 gaussian distribution\n",
    "# 평균 표준편차 난수개수\n",
    "samples = np.random.normal(-0.5, 0.1, 4*5)\n",
    "#x=[]\n",
    "g1= 1/np.sqrt(2*np.pi*0.1) * np.exp(-1.0/2.0*0.1*((x-(-0.5))**2))\n",
    "\n",
    "samples = np.append(samples, np.random.normal(1.4, 0.3, 6*5))\n",
    "print(samples)\n",
    "print([0]* len(samples))\n",
    "\n",
    "plt.scatter(samples,[0]* len(samples))\n",
    "plt.plot(samples,gauss_function(samples,-0.5,))"
   ]
  },
  {
   "cell_type": "code",
   "execution_count": 14,
   "metadata": {},
   "outputs": [],
   "source": [
    "pi_arr=[]\n",
    "mean_arr=[]\n",
    "var_arr=[]\n",
    "sum_k=0.0\n",
    "post_p=[[0.0]*2 for i in range(len(samples))]\n",
    "N_arr=[0.0, 0.0]\n",
    "\n",
    "sum_m=0.0\n",
    "sum_v=0.0\n",
    "\n",
    "#pi, mean, var 초기화\n",
    "pi_arr.append(0.3)\n",
    "pi_arr.append(0.7)\n",
    "\n",
    "mean_arr.append(-0.4)\n",
    "mean_arr.append(1.0)\n",
    "\n",
    "var_arr.append(0.1)\n",
    "var_arr.append(0.4)\n",
    "\n",
    "#post_p[len(samples)-1][0]=pi_arr[0]*gauss_function(5,mean_arr[0],var_arr[0])\n",
    "#print(post_p)\n",
    "#print(pi_arr[0]+pi_arr[1])\n",
    "#print(mean_arr)\n",
    "#print(var_arr)\n"
   ]
  },
  {
   "cell_type": "code",
   "execution_count": 15,
   "metadata": {
    "scrolled": true
   },
   "outputs": [
    {
     "name": "stdout",
     "output_type": "stream",
     "text": [
      "[-0.2351938561316267, -0.3550729129284757]\n",
      "[0.4356995449888917, 2.3531600353076874]\n",
      "[0.032522224755938765, 0.020930454045621546]\n"
     ]
    }
   ],
   "source": [
    "if pi_arr[0]+pi_arr[1] ==1.0:#and 0.0<=pi_arr[0]<=1.0:\n",
    "#$for i in range(100):\n",
    "    #E: 샘플의 가우시언 소속확률 추정\n",
    "    for i in range(len(samples)):\n",
    "        for j in range(2):\n",
    "            for k in range(2):\n",
    "                sum_k+=pi_arr[k] * gauss_function(samples[i],mean_arr[k],var_arr[k])\n",
    "\n",
    "            post_p[i][j]=(pi_arr[j] * gauss_function(samples[i],mean_arr[j],var_arr[j])) / sum_k\n",
    "\n",
    "    #print(post_p)\n",
    "    #M : pi, mean, var 추정\n",
    "    for j in range(2):\n",
    "        for i in range(len(samples)):\n",
    "            N_arr[j]+=post_p[i][j]\n",
    "        #for i in range(len(samples)):\n",
    "            sum_m+=post_p[i][j]*samples[i]\n",
    "            sum_v+=post_p[i][j]*((samples[i]-mean_arr[j])**2)\n",
    "\n",
    "        mean_arr[j]=(1/N_arr[j]) * sum_m\n",
    "        var_arr[j]=(1/N_arr[j]) * sum_v\n",
    "        pi_arr[j]=N_arr[j] / len(samples)\n",
    "\n",
    "    #print(N_arr)\n",
    "\n",
    "print(mean_arr) #-0.5, 1.4\n",
    "print(var_arr)  #0.1, 0.3\n",
    "print(pi_arr)   #0.4, 0.6\n",
    "\n"
   ]
  },
  {
   "cell_type": "code",
   "execution_count": null,
   "metadata": {},
   "outputs": [],
   "source": []
  }
 ],
 "metadata": {
  "kernelspec": {
   "display_name": "Python 3",
   "language": "python",
   "name": "python3"
  },
  "language_info": {
   "codemirror_mode": {
    "name": "ipython",
    "version": 3
   },
   "file_extension": ".py",
   "mimetype": "text/x-python",
   "name": "python",
   "nbconvert_exporter": "python",
   "pygments_lexer": "ipython3",
   "version": "3.7.0"
  }
 },
 "nbformat": 4,
 "nbformat_minor": 2
}
